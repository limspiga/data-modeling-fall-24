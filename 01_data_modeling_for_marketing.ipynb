{
  "nbformat": 4,
  "nbformat_minor": 0,
  "metadata": {
    "colab": {
      "provenance": [],
      "toc_visible": true
    },
    "kernelspec": {
      "name": "python3",
      "display_name": "Python 3"
    },
    "language_info": {
      "name": "python"
    },
    "accelerator": "TPU"
  },
  "cells": [
    {
      "cell_type": "markdown",
      "source": [
        "# 1. Entendiendo y describiendo datos\n",
        "\n",
        "1. Al final del capítulo, tendrás la capacidad de explicar datos y estadísticas.\n",
        "2. Podrás clasificar datos según sus características.\n",
        "3. Aprenderás a calcular estadísticas Univariadas básicas.\n",
        "4. Sabrás cómo identificar valores atípicos.\n",
        "5. Aprenderás a usar el análisis Bivariado para entender la relación entre dos variables.\n"
      ],
      "metadata": {
        "id": "Z3zldYCi3ZiZ"
      }
    },
    {
      "cell_type": "markdown",
      "source": [
        "\n",
        "# Introducción\n",
        "\n",
        "- Enfoque del curso:\n",
        "  - Enseñar a usar el Lenguaje de Consulta Estructurada (SQL) para el modelado de datos.\n",
        "  - SQL es LA BASE para el contenido restante del curso.\n",
        "- Antes de abordar SQL:\n",
        "  - Veremos una visión general sobre el modelado de datos.\n",
        "  - Se introducirán conceptos básicos: definición y tipos de estadísticas, y diferentes métodos estadísticos.\n",
        "  - Definirán el propósito y el contexto de las operaciones SQL."
      ],
      "metadata": {
        "id": "uVnx_1uS4F8a"
      }
    },
    {
      "cell_type": "markdown",
      "source": [
        "\n",
        "# 1.1 Análisis de datos y estadísticas\n",
        "\n",
        "  - Los datos brutos (Raw data) son valores extraídos de una fuente.\n",
        "  - Estos datos se vuelven útiles cuando se identifican patrones.\n",
        "  - Los patrones ayudan en interpretación, predicciones y detección de cambios.\n",
        "  - El análisis de datos convierte los datos en información y luego en conocimiento.\n",
        "  - La analítica de datos combina el análisis con la predicción.\n",
        "  - Existen diferentes técnicas para analizar datos, incluida la estadística.\n",
        "  - La estadística utiliza técnicas matemáticas en conjuntos de datos.\n",
        "  - Se pueden estudiar grandes conjuntos de datos para identificar características específicas.\n",
        "  - Es posible investigar subgrupos para identificar patrones específicos.\n",
        "\n",
        "Los conjuntos de datos contienen datos con diversas características que requieren distintos métodos de procesamiento.\n",
        "  - Hay datos cualitativos, como nombres, que dan información descriptiva, y datos\n",
        "  - Cuantitativos, como recuentos, que permiten operaciones numéricas.\n",
        "\n",
        "\n",
        "\n",
        "\n"
      ],
      "metadata": {
        "id": "TZqh5N3C2zRe"
      }
    },
    {
      "cell_type": "markdown",
      "source": [
        "\n",
        "<figure>\n",
        "<center><img src='https://drive.google.com/uc?export=view&id=1Tf-O9sM1z2YSWR5UMDIg8Cw-qeSHkhFI' width=\"500\" />\n",
        "<figcaption>\n",
        "Figura 1.1: Datos de salud</figcaption></center>\n",
        "</figure>\n",
        "\n",
        "En este caso, la unidad de observación para el conjunto de datos es un paciente individual, porque cada fila representa una observación individual, que es un paciente único. Hay 10 puntos de datos, cada uno con 5 variables.\n",
        "\n",
        "Tres de las columnas,\n",
        "- Año de Nacimiento,\n",
        "- Altura y\n",
        "- Número de Visitas al Médico en el Año 2018,\n",
        "\n",
        "son cuantitativas porque están representadas por números.\n",
        "\n",
        "Dos de las columnas,\n",
        "- Color de Ojos y País de Nacimiento,\n",
        "\n",
        "son cualitativas.\n"
      ],
      "metadata": {
        "id": "r-xDi_mZJqQ5"
      }
    },
    {
      "cell_type": "markdown",
      "source": [
        "\n",
        "## Actividad 1.01: Clasificación de un nuevo Conjunto de datos\n",
        "En esta actividad, se clasificaran los datos de ventas de diferentes coches en un conjunto de datos. Estás a punto de empezar un trabajo en una nueva ciudad en una empresa emergente. Estás emocionado de empezar tu nuevo trabajo, pero has decidido vender todas tus pertenencias antes de partir, lo que incluye tu coche. Como no estás seguro del precio al que venderlo, decides recopilar algunos datos. Pides a algunos amigos y familiares que hayan *vendido* recientemente sus coches información sobre la marca del coche y el precio al que lo vendieron. Con base en esta información, ahora tienes un conjunto de datos. Los datos son los siguientes:\n",
        "\n",
        "<figure>\n",
        "<center><img src='https://github.com/limspiga/data-modeling/blob/main/images/9f7267fb-00c4-4dac-aefa-039791ef6c27.png?raw=true' width=\"300\" />\n",
        "<figcaption>Figure 1.2: Datos de ventas de autos usados</figcaption></center>\n",
        "</figure>\n",
        "\n",
        "Pasos a seguir:\n",
        "\n",
        "1. Determinar la unidad de observación.\n",
        "2. Identificar si cada columna es cuantitativa o cualitativa basándose en la definición proporcionada en el texto justo antes de la actividad. Si puedes aplicar operaciones aritméticas a ella, es cuantitativa. De lo contrario, es cualitativa.\n",
        "3. Usa un valor numérico para representar diferentes valores de cadena si una columna contiene valores de cadena y los valores de cadena son fijos y limitados. Esta es una técnica común que hace que sea más rápido para las computadoras procesar datos. Por ejemplo, para procesar una columna de día de la semana, puedes usar 0 para representar el domingo, 1 para representar el lunes, y así sucesivamente. Intenta usar este concepto y convierte la columna Make en una columna de datos numéricos.\n",
        "\n",
        "\n",
        "\n",
        "\n"
      ],
      "metadata": {
        "id": "3A9e1WCy3Xtc"
      }
    },
    {
      "cell_type": "markdown",
      "source": [
        "Solución:\n",
        "1. La unidad de observación es una venta de coche.\n",
        "2. Fecha y Monto de Ventas son cuantitativos, mientras que Marca es cualitativo.\n",
        "3. Aunque podría haber muchas maneras de convertir Marca en datos numéricos, un método comúnmente aceptado sería asignar a cada tipo de Marca un número.\n",
        "  - Por ejemplo, Ford podría corresponder al 1, Honda al 2, Mazda al 3, Toyota al 4, Mercedes al 5 y Chevy al 6."
      ],
      "metadata": {
        "id": "3ROXZFQQK1IA"
      }
    },
    {
      "cell_type": "markdown",
      "source": [
        "# 1.2 Tipos de Estadísticas\n",
        "\n",
        "## Estadísticas descriptivas\n",
        "\n",
        "Las estadísticas descriptivas se usan para describir un conjunto de datos.\n",
        "- Por ejemplo, la edad promedio de las personas en un país es un indicador de estadísticas descriptivas que describe un aspecto de los residentes del país.\n",
        "\n",
        "Las estadísticas descriptivas sobre una única variable en un conjunto de datos se denominan análisis **univariado**, mientras que las estadísticas descriptivas que examinan dos o más variables al mismo tiempo se llaman análisis multivariado. En particular, las estadísticas que observan dos variables se denominan análisis bivariado. La edad promedio de un país es un ejemplo de análisis **univariado**, mientras que un análisis que examina la interacción entre el PIB per cápita, el gasto sanitario per cápita y la edad es un análisis multivariado.\n",
        "\n",
        "## Estadísticas inferenciales\n",
        "\n",
        "Las estadísticas inferenciales permiten que los conjuntos de datos se recojan como una muestra o una pequeña porción de mediciones de un grupo más grande, denominado población. Las estadísticas inferenciales se usan para **inferir** las propiedades de una población basándose en las propiedades de una muestra.\n",
        "- Por ejemplo, una encuesta a 10,000 personas es una muestra de la población total de un país con 100 millones de personas. En lugar de recopilar la edad de cada persona en el país, se encuesta a 10,000 personas en el país y se usa su edad promedio como la edad promedio del país.\n",
        "\n"
      ],
      "metadata": {
        "id": "6MtuHg8T3W-D"
      }
    },
    {
      "cell_type": "markdown",
      "source": [
        "##  1.3.1 Métodos de estadística descriptiva\n",
        "En esta sección, examinaremos más detenidamente técnicas básicas de análisis univariado y bivariado, para describir y comprender un conjunto de datos.\n",
        "\n",
        "### Técnicas de análisis univariado\n",
        "- Distribución de frecuencia de datos\n",
        "- Cuantiles\n",
        "- Tendencia central\n",
        "- Dispersión\n",
        "\n",
        "### Técnicas de análisis bivariado\n",
        "- Gráficos de dispersión\n",
        "- Análisis de tendencia lineal y coeficiente de correlación de pearson\n",
        "- Interpretación y análisis del coeficiente de correlación\n",
        "- Datos de series temporales\n",
        "\n"
      ],
      "metadata": {
        "id": "ytG3gobl4X2l"
      }
    },
    {
      "cell_type": "markdown",
      "source": [
        "\n",
        "### 1.3.1.1 Análisis Univariado\n",
        "Consiste en múltiples métodos que se\n",
        "- utilizan para entender el aspecto **único** de un conjunto de datos."
      ],
      "metadata": {
        "id": "eehgdIDwP0AE"
      }
    },
    {
      "cell_type": "markdown",
      "source": [
        "\n",
        "### 1.3.1.1 Distribución de frecuencia de datos\n",
        "\n",
        "La distribución de datos refiere al conteo de cuántos valores específicos hay en un conjunto de datos.\n",
        "\n",
        "- Por ejemplo, supongamos que tienes un conjunto de datos de 1,000 registros médicos y una de las variables en el conjunto de datos es el color de ojos.\n",
        "\n",
        "  Si observas el conjunto de datos y encuentras que 700 personas tienen ojos marrones, 200 personas tienen ojos verdes y 100 personas tienen ojos azules, entonces acabas de describir la distribución del conjunto de datos.\n",
        "\n",
        "<figure><center>\n",
        "\n",
        "|    Color de ojos    |       Número de personas       |\n",
        "|:-------------------:|:------------------------------:|\n",
        "|      Marrones       |              700                |\n",
        "|       Verdes        |              200                |\n",
        "|       Azules        |              100                |\n",
        "\n",
        "</center></figure>\n",
        "\n",
        "Específicamente, porque utilizaste el número absoluto para mostrar la frecuencia de ocurrencia de un cierto patrón (color de ojos en este ejemplo), esta es la distribución de frecuencia absoluta.\n",
        "\n",
        "Si, en lugar de contar el número exacto de ocurrencias en un conjunto de datos,\n",
        "- indicas qué porcentaje representan del total,\n",
        "\n",
        "entonces estás hablando de la distribución de frecuencia relativa.\n",
        "\n",
        "- En el ejemplo anterior del color de ojos, la distribución de frecuencia relativa sería del 70% para ojos marrones, 20% para ojos verdes y 10% para ojos azules. Es fácil calcular la distribución cuando la variable puede tomar varios valores fijos, como el color de ojos.\n",
        "\n",
        "<figure><center>\n",
        "\n",
        "|   Color de ojos   | Distribución de frecuencia relativa |\n",
        "|:-----------------:|:----------------------------------:|\n",
        "|     Marrones      |                70%                  |\n",
        "|      Verdes       |                20%                  |\n",
        "|      Azules       |                10%                  |\n",
        "\n",
        "</center></figure>\n",
        "\n",
        "¿Pero qué pasa con una variable cuantitativa que puede tomar un rango de valores continuos, como la altura? La forma general de calcular distribuciones para estos tipos de variables es hacer \"cubos\" de intervalo a los que se pueden asignar estos valores y luego calcular distribuciones usando estos cubos.\n",
        "- Por ejemplo, la altura se puede dividir en cubos de intervalo de 5 cm. Una altura de 172 caerá en el cubo de 170-174.99 y una altura de 181 caerá en el cubo de 180-184.99. Luego puedes crear una distribución basada en los valores de los cubos derivados de las alturas. Esta distribución se basa en el número absoluto de alturas en cada cubo, por lo que es una distribución de frecuencia absoluta. Luego puedes dividir cada fila de la tabla por el número total de puntos de datos y obtener la distribución de frecuencia relativa.\n",
        "\n",
        "Otra cosa útil que se puede hacer con las distribuciones es poner los números en un gráfico, lo que se llama visualización de datos. La visualización de datos muestra la relación entre los puntos de datos visualmente, lo que facilita identificar patrones."
      ],
      "metadata": {
        "id": "dgk7Wzh6Pt0n"
      }
    },
    {
      "cell_type": "markdown",
      "source": [
        "#### Ejercicio 1.01: Creando un Histograma\n",
        "En este ejercicio, utilizarás Python para crear un histograma. Imagina que, como analista de políticas de salud, deseas ver la distribución de alturas para determinar si es posible descubrir patrones relacionados con la calidad de la atención médica. Para lograr esta tarea, necesitas crear un histograma.\n",
        "\n",
        "1. Todos los conjuntos de datos utilizados en este capítulo se pueden encontrar en GitHub. Para acceder a los archivos, abre la siguiente dirección en tu navegador preferido: https://github.com/limspiga/data-modeling/tree/main/datasets.\n"
      ],
      "metadata": {
        "id": "yfZ27uPZ3Deg"
      }
    },
    {
      "cell_type": "code",
      "source": [
        "# 1. Importamos librerias python\n",
        "import csv\n",
        "import matplotlib.pyplot as plt\n",
        "\n",
        "# 2. Descargamos datasets del repositorio\n",
        "!curl https://raw.githubusercontent.com/limspiga/data-modeling/main/datasets/heights.csv  -O\n",
        "\n",
        "# 3. Leemos el dataset\n",
        "column_data = []\n",
        "# Open the CSV file and read the desired column\n",
        "with open('heights.csv', 'r') as file:\n",
        "    reader = csv.reader(file)\n",
        "    # Skip the header\n",
        "    next(reader)\n",
        "    # Assuming you want the data from the first column (index 0)\n",
        "    # If you want another column, just adjust the index\n",
        "    for row in reader:\n",
        "        # Convert the value to float (or int) if it's numerical\n",
        "        column_data.append(float(row[0]))\n",
        "\n",
        "# 4. Creamos gráfico del hitograma\n",
        "plt.hist(column_data, bins=12, edgecolor='black')\n",
        "plt.title('Histogram of heights')\n",
        "plt.xlabel('heights')\n",
        "plt.ylabel('Frequency')\n",
        "plt.show()\n"
      ],
      "metadata": {
        "colab": {
          "base_uri": "https://localhost:8080/",
          "height": 525
        },
        "id": "28Aemqu725k-",
        "outputId": "6eb473b5-d515-4c28-8021-c3d68d36e919"
      },
      "execution_count": 3,
      "outputs": [
        {
          "output_type": "stream",
          "name": "stdout",
          "text": [
            "  % Total    % Received % Xferd  Average Speed   Time    Time     Time  Current\n",
            "                                 Dload  Upload   Total   Spent    Left  Speed\n",
            "100  182k  100  182k    0     0   298k      0 --:--:-- --:--:-- --:--:--  299k\n"
          ]
        },
        {
          "output_type": "display_data",
          "data": {
            "text/plain": [
              "<Figure size 640x480 with 1 Axes>"
            ],
            "image/png": "[encoded data removed]"
          },
          "metadata": {}
        }
      ]
    },
    {
      "cell_type": "markdown",
      "source": [
        "Resultado\n",
        "\n",
        "Al observar la forma de la distribución, puedes encontrar patrones interesantes. Observa el corte simétrico en forma de campana de esta distribución. Esta distribución se encuentra a menudo en muchos conjuntos de datos y es conocida como una distribución normal. Esta es una de las distribuciones más comunes con las que te encontrarás en el mundo real. Este curso no discutirá esta distribución en mucho detalle, pero estate atento a ella en tu análisis de datos, ya que aparece con bastante frecuencia.\n"
      ],
      "metadata": {
        "id": "jVnqIRgn29BW"
      }
    },
    {
      "cell_type": "markdown",
      "source": [
        "### 1.3.1.2 Cuantiles\n",
        "En la sección anterior, Distribución de Frecuencia de Datos, aprendimos cómo calcular la frecuencia de distribución, así como cómo visualizarla. Sin embargo, hay más que estudiar en el patrón de cada distribución.\n",
        "- Por ejemplo, dadas dos distribuciones normales, una puede estar más concentrada alrededor del medio, teniendo así un pico más agudo. Otra puede dispersarse más y parecer más plana. Necesitarás usar algunas métricas cuantitativas para evaluar las características de cada distribución.\n",
        "\n",
        "Una forma de cuantificar numéricamente la distribución de datos es usar cuantiles. Los N-cuantiles son un conjunto de n-1 puntos utilizados para dividir un conjunto de datos en n grupos basados en el orden de una variable. Estos puntos a menudo se llaman puntos de corte. Por ejemplo, un 4-cuantiles (también conocido como cuartil) tiene tres puntos de corte (n-1) que dividen una variable en cuatro grupos aproximadamente iguales de números. Hay varios nombres comunes para cuantiles utilizados indistintamente, que son los siguientes:\n",
        "\n",
        "<figure>\n",
        "<center>\n",
        "\n",
        "|   N  | Common Name          |\n",
        "|:----:|:--------------------:|\n",
        "|   3  | Terciles     |\n",
        "|   4  | Quartiles    |\n",
        "|   5  | Quintiles    |\n",
        "|  10  | Deciles      |\n",
        "|  20  | Ventiles     |\n",
        "| 100  | Percentiles  |\n",
        "\n",
        "<figcaption>Figura 1.13: Nombres comunes para n-cuantiles</figcaption>\n",
        "</center>\n",
        "</figure>\n",
        "\n",
        "El procedimiento para calcular cuantiles varía de un lugar a otro. En uno de los enfoques más comunes, puedes usar el siguiente procedimiento para calcular los n-cuantiles para puntos de datos de una sola variable:\n",
        "\n",
        "1. Ordena los puntos de datos de menor a mayor según la variable.\n",
        "2. Determina el número $n$, de $n-$cuantiles que deseas calcular y el número de puntos de corte, $n-1$.\n",
        "4. Determina el número de puntos de corte $k$ que deseas calcular, es decir, un número del 1 al $n-1$. Si este es el primer paso del cálculo, establece $k$ igual a 1.\n",
        "\n",
        "  Para encontrar el índice $i$, para el punto de corte $k$ usamos la siguiente formula:\n",
        "<h1><center>\n",
        "$i=[\\frac{k}{n}(d-1)]+1$\n",
        "\n",
        "    Figura 1.14: Índice.\n",
        "</center></h1>\n",
        "\n",
        "4. Si para el punto de corte k, el i calculado es un número entero, simplemente elige ese elemento numerado de los puntos de datos ordenados. Si i no es un número entero, encuentra el elemento numerado que es menor que i y el que es mayor que él. Multiplica la diferencia entre el elemento numerado y el siguiente por la parte decimal del índice. Suma este número al elemento con el número más bajo.\n",
        "\n",
        "5. Repite los Pasos 1 a 4 con diferentes valores de k hasta que hayas calculado todos los puntos de corte.\n",
        "Ahora que has comprendido los pasos para calcular cuartiles, sería útil trabajar en un ejercicio para una mejor comprensión."
      ],
      "metadata": {
        "id": "83H131ba6FYB"
      }
    },
    {
      "cell_type": "code",
      "source": [
        "# nota: q corresponde a  (k/n)\n",
        "def quantile(data, q):\n",
        "\n",
        "    sorted_data = sorted(data)\n",
        "    n = len(data)\n",
        "\n",
        "    index = q * (n - 1)\n",
        "    floor_index = int(index)\n",
        "    ceil_index = int(index + 1)\n",
        "\n",
        "    if floor_index == index:\n",
        "        return sorted_data[floor_index]\n",
        "    else:\n",
        "        lower = sorted_data[floor_index]\n",
        "        upper = sorted_data[ceil_index]\n",
        "        return lower + (upper - lower) * (index - floor_index)\n",
        "\n",
        "data = [1, 2, 3, 4, 5, 6, 7, 8, 9, 10]\n",
        "\n",
        "# Ejemplos\n",
        "print(quantile(data, (1/4)))  # 25th percentile (1st quartile)\n",
        "print(quantile(data, (2/4)))  # 50th percentile (median or 2nd quartile)\n",
        "print(quantile(data, (3/4)))  # 75th percentile (3rd quartile)"
      ],
      "metadata": {
        "colab": {
          "base_uri": "https://localhost:8080/"
        },
        "id": "8rmGt0U-BCXT",
        "outputId": "275e586a-8648-4407-d89d-be1788afaf0d"
      },
      "execution_count": 8,
      "outputs": [
        {
          "output_type": "stream",
          "name": "stdout",
          "text": [
            "3.25\n",
            "5.5\n",
            "7.75\n"
          ]
        }
      ]
    },
    {
      "cell_type": "code",
      "source": [
        "import pandas as pd\n",
        "df = pd.DataFrame({'height': [1, 2, 3, 4, 5, 6, 7, 8, 9, 10]})\n",
        "\n",
        "# Calculate the 25th, 50th, and 75th percentiles\n",
        "quantiles = df['height'].quantile([.25, .5, .75])\n",
        "print(quantiles)"
      ],
      "metadata": {
        "colab": {
          "base_uri": "https://localhost:8080/"
        },
        "id": "_o90-AEooJOu",
        "outputId": "8625f644-cc79-46e1-9b74-93fbc8f848c5"
      },
      "execution_count": 11,
      "outputs": [
        {
          "output_type": "stream",
          "name": "stdout",
          "text": [
            "0.25    3.25\n",
            "0.50    5.50\n",
            "0.75    7.75\n",
            "Name: height, dtype: float64\n"
          ]
        }
      ]
    },
    {
      "cell_type": "markdown",
      "source": [
        "#### Ejercicio 1.02: Calculando los Cuartiles para Ventas Adicionales\n",
        "\n",
        "En este ejercicio, clasificarás los datos y calcularás los cuartiles para una compra de coche usando solo Python. Tu nuevo jefe quiere que mires algunos datos antes de empezar el lunes para que tengas una mejor idea de uno de los problemas en los que trabajarás, es decir, el aumento en las ventas de accesorios y actualizaciones para las compras de coches.\n",
        "\n",
        "Tu jefe te envía una lista de 11 compras de coches y cuánto se gastó en accesorios y actualizaciones al modelo base del nuevo ZoomZoom Modelo Chi. Los siguientes son los valores de **Ventas Adicionales ($): 5000, 1700, 8200, 1500, 3300, 9000, 2000, 0, 0, 2300 y 4700**.\n",
        "\n",
        "<figure><center>\n",
        "\n",
        "| Compra No. | Ventas Adicionales ($) |\n",
        "|:----------:|:-----------------------:|\n",
        "|      1     |           5000          |\n",
        "|      2     |           1700          |\n",
        "|      3     |           8200          |\n",
        "|      4     |           1500          |\n",
        "|      5     |           3300          |\n",
        "|      6     |           9000          |\n",
        "|      7     |           2000          |\n",
        "|      8     |             0            |\n",
        "|      9     |             0            |\n",
        "|     10     |           2300          |\n",
        "|     11     |           4700          |\n",
        "\n",
        "</center></figure>\n",
        "\n",
        "\n",
        "\n",
        "Realiza los siguientes pasos para completar el ejercicio:"
      ],
      "metadata": {
        "id": "5VP14PbLB5q6"
      }
    },
    {
      "cell_type": "code",
      "source": [
        "# 1. Cargamos pandas\n",
        "import pandas as pd\n",
        "import matplotlib.pyplot as plt\n",
        "\n",
        "# 2. Descargamos las librerias del repositorio\n",
        "!curl https://raw.githubusercontent.com/limspiga/data-modeling/main/datasets/auto_upgrades.csv  -O\n",
        "\n",
        "# 3. Hacemos un dataframe\n",
        "df = pd.read_csv(\"auto_upgrades.csv\")"
      ],
      "metadata": {
        "id": "iqcqzmU7f6Ps"
      },
      "execution_count": null,
      "outputs": []
    },
    {
      "cell_type": "markdown",
      "source": [
        "4. Ordena los valores de menor a mayor."
      ],
      "metadata": {
        "id": "Kpc5npcBkLV0"
      }
    },
    {
      "cell_type": "code",
      "source": [
        "df_sorted = df.sort_values('Sales')\n",
        "print(df_sorted)"
      ],
      "metadata": {
        "colab": {
          "base_uri": "https://localhost:8080/"
        },
        "id": "-T4LLnjMkLqs",
        "outputId": "931f9764-17b7-4df4-d372-e679aa70388f"
      },
      "execution_count": null,
      "outputs": [
        {
          "output_type": "stream",
          "name": "stdout",
          "text": [
            "     Sales\n",
            "7      0.0\n",
            "8      0.0\n",
            "3   1500.0\n",
            "1   1700.0\n",
            "6   2000.0\n",
            "9   2300.0\n",
            "4   3300.0\n",
            "10  4700.0\n",
            "0   5000.0\n",
            "2   8200.0\n",
            "5   9000.0\n"
          ]
        }
      ]
    },
    {
      "cell_type": "markdown",
      "source": [
        "5. Calcula el índice para el primer punto de corte, en este caso, k=1; d, el número de valores basados en la población, es 11, y n, el número de n-cuantiles, es 4.\n",
        "\n",
        "  Al introducir estos valores en la ecuación de la Figura 1.16, obtendrás 3.5\n",
        "\n",
        "\n",
        "<h1><center>\n",
        "$i=[\\frac{k}{n}(d-1)]+1$\n",
        "</center></h1>\n",
        "\n",
        "<h1><center>\n",
        "$i=[\\frac{1}{4}(11-1)]+1$\n",
        "</center></h1>\n",
        "\n",
        "<h1><center>\n",
        "$i=[\\frac{10}{4}]+1$\n",
        "</center></h1>\n",
        "\n",
        "<h1><center>\n",
        "$i=2.5+1= 3.5$\n",
        "</center></h1>"
      ],
      "metadata": {
        "id": "VotW6g3lh8_H"
      }
    },
    {
      "cell_type": "code",
      "source": [
        "k = 1\n",
        "n = 4\n",
        "i = k/n * (len(df_sorted)-1) + 1 # len obtiene el número de elementos\n",
        "print(i)"
      ],
      "metadata": {
        "colab": {
          "base_uri": "https://localhost:8080/"
        },
        "id": "q7fpr3Kvl6IS",
        "outputId": "ebde2a64-54a5-4468-c953-f097d45645ae"
      },
      "execution_count": null,
      "outputs": [
        {
          "output_type": "stream",
          "name": "stdout",
          "text": [
            "3.5\n"
          ]
        }
      ]
    },
    {
      "cell_type": "markdown",
      "source": [
        "6. Ahora, determina el número de n-cuantiles y puntos de corte que necesitas calcular.  Los cuartiles son equivalentes a 4-cuantiles, como se muestra en la Figura 1.13.\n",
        "Debido a que el número de puntos de corte es simplemente uno menos que el número de n-cuantiles (n-1), sabes que habrá tres puntos de corte.\n"
      ],
      "metadata": {
        "id": "sWJwhxCAh1j_"
      }
    },
    {
      "cell_type": "markdown",
      "source": [
        "7. Dado que el índice 3.5 no es un número entero, necesitas encontrar el tercer y cuarto elemento (1,500 y 1,700, respectivamente). Encuentra la diferencia entre ellos, que es 200, y luego multiplica esto por la parte decimal de 0.5, dando como resultado 100. Sumas esto al tercer elemento numerado, 1,500, y obtienes 1,600."
      ],
      "metadata": {
        "id": "u3i-wrJhkEd3"
      }
    },
    {
      "cell_type": "code",
      "source": [
        "# En caso de que no sea entero\n",
        "if not isinstance(i, int):\n",
        "  # print(df_sorted.iloc[2,0])\n",
        "  # print(df_sorted.iloc[3,0])\n",
        "  print((df_sorted.iloc[3,0]-df_sorted.iloc[2,0])*0.5+df_sorted.iloc[2,0])"
      ],
      "metadata": {
        "colab": {
          "base_uri": "https://localhost:8080/"
        },
        "id": "6XGmsUpFmjdo",
        "outputId": "079824b7-a34b-4297-95ea-eb93df3f6deb"
      },
      "execution_count": null,
      "outputs": [
        {
          "output_type": "stream",
          "name": "stdout",
          "text": [
            "1600.0\n"
          ]
        }
      ]
    },
    {
      "cell_type": "markdown",
      "source": [
        "8. Repite los Pasos 2 al 5 para k=2 y k=3 para calcular el segundo y tercer cuartiles. Deberías obtener 2,300 y 4,850, respectivamente."
      ],
      "metadata": {
        "id": "4coHa8WHkcbY"
      }
    },
    {
      "cell_type": "code",
      "source": [
        "import pandas as pd\n",
        "\n",
        "!curl https://raw.githubusercontent.com/limspiga/data-modeling/main/datasets/auto_upgrades.csv  -O\n",
        "\n",
        "df = pd.read_csv(\"auto_upgrades.csv\")\n",
        "quantiles = df['Sales'].quantile([.25, .5, .75])\n",
        "\n",
        "print(quantiles)"
      ],
      "metadata": {
        "id": "d7x7AdPilHiU",
        "colab": {
          "base_uri": "https://localhost:8080/"
        },
        "outputId": "b75c3508-0ca8-4b0d-bb33-9bf3547ff819"
      },
      "execution_count": 15,
      "outputs": [
        {
          "output_type": "stream",
          "name": "stdout",
          "text": [
            "  % Total    % Received % Xferd  Average Speed   Time    Time     Time  Current\n",
            "                                 Dload  Upload   Total   Spent    Left  Speed\n",
            "\r  0     0    0     0    0     0      0      0 --:--:-- --:--:-- --:--:--     0\r100    77  100    77    0     0    573      0 --:--:-- --:--:-- --:--:--   574\n",
            "0.25    1600.0\n",
            "0.50    2300.0\n",
            "0.75    4850.0\n",
            "Name: Sales, dtype: float64\n"
          ]
        }
      ]
    },
    {
      "cell_type": "markdown",
      "source": [
        "En este ejercicio, aprendiste cómo clasificar datos y calcular cuartiles usando Python. Los cuartiles son útiles porque dividen el conjunto de datos en cuatro subconjuntos basados en el orden, y es fácil derivar la mitad superior, la mitad inferior, así como la mitad que está más cerca de la mediana de los cuatro subconjuntos de datos. Con la mayoría de las herramientas modernas, incluido SQL, las computadoras pueden calcular rápidamente los cuantiles con funcionalidad incorporada para que no necesites hacerlo manualmente. Sin embargo, es útil entender cómo se calcula a través de este ejemplo."
      ],
      "metadata": {
        "id": "mGBbyQcTlHuC"
      }
    },
    {
      "cell_type": "markdown",
      "source": [
        "### 1.3.1.3 Tendencia Central\n",
        "\n",
        "Una pregunta frecuente sobre una variable en un conjunto de datos es cuál es su **valor típico**. Este valor representa lo que llamamos la **\"tendencia central\"** de esa variable. Existen diferentes métodos para determinar esta tendencia, y cada uno tiene sus pros y contras. Algunos de estos métodos son:"
      ],
      "metadata": {
        "id": "Oo1Nsxo8rOil"
      }
    },
    {
      "cell_type": "markdown",
      "source": [
        "- Moda: La moda es simplemente el valor que aparece con más frecuencia en la distribución de una variable.\n",
        "\n",
        "  En la Figura 1.1, el ejemplo sobre el color de ojos, la moda sería \"ojos marrones\" porque ocurre con más frecuencia en el conjunto de datos. Si varios valores están empatados como el valor más común, entonces la variable se llama multimodal, y se informan todos los valores más altos. Si ningún valor se repite, entonces no hay moda para ese conjunto de valores.\n",
        "La moda tiende a ser útil cuando una variable puede adoptar un número pequeño y fijo de valores. Sin embargo, es problemático calcularla cuando una variable es una variable cuantitativa continua, como se ve en el ejemplo sobre la altura en la Figura 1.12. Con estas variables, otros cálculos son más apropiados para determinar la tendencia central.\n",
        "\n"
      ],
      "metadata": {
        "id": "R30uQJMmrZsw"
      }
    },
    {
      "cell_type": "markdown",
      "source": [
        "- Promedio/media: El promedio de una variable (también llamado media) es el valor que se calcula cuando tomas la suma de todos los valores de la variable y la divides por el número de puntos de datos.\n",
        "\n",
        "  Por ejemplo, si tienes un pequeño conjunto de datos de edades, 26, 25, 31, 35 y 29, el promedio de estas edades sería 29.2 porque ese es el número que obtienes cuando derivas la suma de los cinco números y luego divides por 5, es decir, el número de puntos de datos.\n",
        "\n",
        "  - La media es fácil de calcular y describe bien el valor \"típico\" de una variable.\n",
        "  - Es una estadística descriptiva frecuentemente reportada en la literatura.\n",
        "  - La media es sensible a los valores atípicos.\n",
        "  - Un valor atípico es un dato significativamente diferente del resto y es poco común.\n",
        "  - Las técnicas gráficas, como diagramas de dispersión y gráficos de caja, pueden ayudar a identificar valores atípicos.\n",
        "  - Un conjunto de datos con valores atípicos se denomina conjunto de datos **sesgado**.\n",
        "  - Los valores atípicos pueden ser causados por datos no limpios, eventos raros o problemas de medición.\n",
        "  - Los valores atípicos pueden distorsionar la media, haciéndola no representativa del conjunto general."
      ],
      "metadata": {
        "id": "h3fmBXr9CABY"
      }
    },
    {
      "cell_type": "markdown",
      "source": [
        "- Mediana: La mediana (también llamada 2º cuartil y el percentil 50) es otra medida de tendencia central pero tiene algunas ventajas sobre el promedio. Para calcular la mediana, toma los números de una variable y ordénalos del más bajo al más alto, y luego determina el número del medio. Para un número impar de puntos de datos, este número es simplemente el valor del medio de los datos ordenados. Si hay un número par de puntos de datos, entonces toma el promedio de los dos números del medio.\n",
        "Aunque la mediana es un poco engorrosa para calcular, es menos afectada por valores atípicos, a diferencia de la media. Para ilustrar este hecho, calcula la mediana del conjunto de datos de edades sesgado de 26, 25, 31, 35, 29 y 82. Cuando calculas la mediana del conjunto de datos, obtienes el valor de 30. Este valor está mucho más cerca del valor típico del conjunto de datos que el promedio de 38. Esta robustez frente a los valores atípicos es una de las principales razones por las que se calcula la mediana."
      ],
      "metadata": {
        "id": "GeVbf6-asa_r"
      }
    },
    {
      "cell_type": "code",
      "source": [
        "import statistics\n",
        "ages = [26, 25, 31, 35, 29, 82]\n",
        "median_age = statistics.median(ages)\n",
        "print(median_age)"
      ],
      "metadata": {
        "colab": {
          "base_uri": "https://localhost:8080/"
        },
        "id": "ormGX82psxg5",
        "outputId": "d600a4ee-0a5d-4263-eb13-fa075d42ea02"
      },
      "execution_count": null,
      "outputs": [
        {
          "output_type": "stream",
          "name": "stdout",
          "text": [
            "30.0\n"
          ]
        }
      ]
    },
    {
      "cell_type": "markdown",
      "source": [
        "\n",
        "####  Ejercicio 1.03: Calcular la Tendencia Central de las Ventas Adicionales\n",
        "\n",
        "En este ejercicio, se calcula la tendencia central de los datos proporcionados usando Python. Para entender mejor los datos de Ventas Adicionales (los artículos que se venden además de la compra principal), necesitarás obtener una comprensión de cuál es un valor típico para esta variable. Calcula la moda, la media y la mediana de los datos de Ventas Adicionales. Aquí están los datos de los 11 coches comprados: 5000, 1700, 8200, 1500, 3300, 9000, 2000, 0, 0, 2300, y 4700.\n",
        "Realiza los siguientes pasos para implementar el ejercicio:\n",
        "\n",
        "1. Introduce los números anteriores en un arreglo.\n"
      ],
      "metadata": {
        "id": "qzpQrTtswoju"
      }
    },
    {
      "cell_type": "code",
      "source": [
        "import statistics\n",
        "datos = [5000, 1700, 8200, 1500, 3300, 9000, 2000, 0, 0, 2300, 4700]"
      ],
      "metadata": {
        "id": "iMfB2tqU2qbJ"
      },
      "execution_count": null,
      "outputs": []
    },
    {
      "cell_type": "markdown",
      "source": [
        "\n",
        "2. Calcular la moda buscando el valor más común. Dado que 0 es el valor más común en el conjunto de datos, la moda es 0."
      ],
      "metadata": {
        "id": "ZVZG16A52kUN"
      }
    },
    {
      "cell_type": "code",
      "source": [
        "# Moda\n",
        "moda = statistics.mode(datos)\n",
        "print(f\"Moda: {moda}\")"
      ],
      "metadata": {
        "colab": {
          "base_uri": "https://localhost:8080/"
        },
        "id": "ohf9uUXE3DAH",
        "outputId": "fa5d0e7c-7abe-474f-ff57-7528d4d1ea45"
      },
      "execution_count": null,
      "outputs": [
        {
          "output_type": "stream",
          "name": "stdout",
          "text": [
            "Moda: 0\n"
          ]
        }
      ]
    },
    {
      "cell_type": "markdown",
      "source": [
        "3. Calcula la media. Suma los números de Ventas Adicionales, que deberían sumar 37,700. Luego, divide entre el número de valores (11) y obtienes una media de 3,427.27.\n"
      ],
      "metadata": {
        "id": "FYC4gNIW3D2N"
      }
    },
    {
      "cell_type": "code",
      "source": [
        "# Media\n",
        "media = statistics.mean(datos)\n",
        "print(f\"Media: {media}\")"
      ],
      "metadata": {
        "colab": {
          "base_uri": "https://localhost:8080/"
        },
        "id": "JSY9pJlz3FDZ",
        "outputId": "b074917b-8980-4356-8100-f370266d4172"
      },
      "execution_count": null,
      "outputs": [
        {
          "output_type": "stream",
          "name": "stdout",
          "text": [
            "Media: 3427.2727272727275\n"
          ]
        }
      ]
    },
    {
      "cell_type": "markdown",
      "source": [
        "\n",
        "3. Calcula la mediana identificando el valor del medio de los datos"
      ],
      "metadata": {
        "id": "SWGGF3Nq3Fi6"
      }
    },
    {
      "cell_type": "code",
      "source": [
        "# Mediana\n",
        "mediana = statistics.median(datos)\n",
        "print(f\"Mediana: {mediana}\")"
      ],
      "metadata": {
        "colab": {
          "base_uri": "https://localhost:8080/"
        },
        "id": "bQppWYFG3I76",
        "outputId": "baa0a79b-de4d-43a1-b2a1-fe074b2e5e20"
      },
      "execution_count": null,
      "outputs": [
        {
          "output_type": "stream",
          "name": "stdout",
          "text": [
            "Mediana: 2300\n"
          ]
        }
      ]
    },
    {
      "cell_type": "markdown",
      "source": [
        "Debido a que hay 11 valores, el valor del medio será el sexto en la lista. Ahora tomas el sexto elemento en los datos ordenados y obtienes una mediana de 2300.\n",
        "\n",
        "Ahora que conoces sobre la tendencia central, puedes aprender acerca de una propiedad diferente de los datos, llamada dispersión."
      ],
      "metadata": {
        "id": "XsUPRC603JFS"
      }
    },
    {
      "cell_type": "markdown",
      "source": [
        "### 1.3.1.4 Dispersión\n",
        "Otra propiedad de interés en un conjunto de datos es descubrir cuán juntos están los puntos de datos en una variable. Por ejemplo, los conjuntos de números [100, 100, 100] y [50, 100, 150] ambos tienen una media de 100, pero los números en el segundo grupo están más dispersos que en el primero. Esta propiedad que describe cómo se distribuyen los datos se llama dispersión.\n",
        "\n",
        "Hay muchas maneras de medir la dispersión de una variable. Estas son algunas de las formas más comunes de evaluar la dispersión.\n",
        "\n",
        "- **Rango**: El rango es simplemente la diferencia entre los valores más alto y más bajo para una variable.\n",
        "  - Por ejemplo, el rango en el Ejercicio 1.03, Calculando la Tendencia Central de Ventas Adicionales es 0–9,000. Es fácil de calcular pero es muy susceptible a valores atípicos. Tampoco proporciona mucha información sobre la dispersión de valores en el medio del conjunto de datos.\n",
        "\n",
        "- **Desviación estándar/varianza**: La desviación estándar es simplemente la raíz cuadrada de la media de la diferencia al cuadrado entre cada punto de datos y la media. El valor de la desviación estándar varía de 0 a infinito positivo. Cuanto más cerca esté la desviación estándar de 0, menos variarán los números en el conjunto de datos. Si la desviación estándar es 0, significa que todos los valores para una variable del conjunto de datos son iguales.\n",
        "\n",
        "Una aclaración importante: existen dos fórmulas diferentes para calcular la desviación estándar.\n",
        "\n",
        "Hay dos fórmulas para la desviación estándar, presentadas en la Figura 1.18:\n",
        "\n",
        "1. Si tu conjunto de datos abarca toda la población, usa la fórmula A. En esta fórmula, \"ux\" es el promedio del conjunto.\n",
        "2. Si tu conjunto es solo una muestra de la población, emplea la fórmula B. Aquí, \"ux\" también representa el promedio del conjunto.\n",
        "\n",
        "Si no estás seguro de cuál usar, elige la desviación estándar de la muestra, ya que es una opción más conservadora. Sin embargo, en la mayoría de los casos con muchos datos, la diferencia entre ambas fórmulas es mínima."
      ],
      "metadata": {
        "id": "8uj1XRZ-w8oy"
      }
    },
    {
      "cell_type": "markdown",
      "source": [
        "\n",
        "<h1><center>\n",
        "$\\text{a) }\\sqrt{ \\frac{ \\sum_{i=1}^n (x_i - u_x)^2}{n}}\n",
        "\\text{   b) }\\sqrt{ \\frac{ \\sum_{i=1}^n (x_i - u_x)^2}{n-1}}$\n",
        "\n",
        "  Figura 1.18: Las fórmulas de desviación estándar para A) población y B) muestra.\n",
        "</center></h1>\n",
        "\n"
      ],
      "metadata": {
        "id": "IaxZhQUuz-Vq"
      }
    },
    {
      "cell_type": "markdown",
      "source": [
        "La desviación estándar es la medida más común para describir la dispersión de datos. Aunque puede ser influenciada por valores atípicos, no tan drásticamente como el rango. A pesar de que su cálculo puede ser complejo, las herramientas actuales facilitan este proceso. Esto aplica, por ejemplo, al conjunto de datos del Ejercicio 1.03."
      ],
      "metadata": {
        "id": "PcX0B7Wj4BKM"
      }
    },
    {
      "cell_type": "markdown",
      "source": [
        "Finalmente, a veces podrás encontrar un valor llamado varianza. Este no es más que la desviación estándar elevada al cuadrado.\n",
        "\n",
        "- Por otro lado, el Rango Intercuartílico (RIQ) es la diferencia entre el primer cuartil (Q1 o cuartil inferior) y el tercer cuartil (Q3 o cuartil superior).\n"
      ],
      "metadata": {
        "id": "wZN_r81-4uRk"
      }
    },
    {
      "cell_type": "markdown",
      "source": [
        "\n",
        "#### Ejercicio 1.04: Dispersión de Ventas Adicionales\n",
        "En este ejercicio, calcularás el rango, la desviación estándar y el RIQ. Para comprender mejor las ventas de adicionales y actualizaciones, es necesario analizar más detalladamente la dispersión de los datos. Aquí están los datos de los 11 coches comprados: 5000, 1700, 8200, 1500, 3300, 9000, 2000, 0, 0, 2300 y 4700."
      ],
      "metadata": {
        "id": "L5uwUvmX5JSM"
      }
    },
    {
      "cell_type": "markdown",
      "source": [
        "1. Calcula el rango encontrando el valor mínimo de los datos, 0, y restando este del valor máximo de los datos, 9000, lo que da un resultado de 9000.\n"
      ],
      "metadata": {
        "id": "NRZiaNLs5Oe3"
      }
    },
    {
      "cell_type": "code",
      "source": [
        "import numpy as np\n",
        "\n",
        "data = [5000, 1700, 8200, 1500, 3300, 9000, 2000, 0, 0, 2300, 4700]\n",
        "\n",
        "# Calculate the range\n",
        "range = np.max(data) - np.min(data)\n",
        "print(\"Range:\", range)\n"
      ],
      "metadata": {
        "id": "5Uf46MuR689T",
        "colab": {
          "base_uri": "https://localhost:8080/"
        },
        "outputId": "0f507939-a083-4594-dfc3-683d004bec4d"
      },
      "execution_count": 16,
      "outputs": [
        {
          "output_type": "stream",
          "name": "stdout",
          "text": [
            "Range: 9000\n"
          ]
        }
      ]
    },
    {
      "cell_type": "markdown",
      "source": [
        "\n",
        "2. Calcular la desviación estándar de la población.\n"
      ],
      "metadata": {
        "id": "hLkSryhJ6tbO"
      }
    },
    {
      "cell_type": "code",
      "source": [
        "# Calculate the standard deviation\n",
        "std = np.std(data)\n",
        "print(\"Standard deviation:\", std)"
      ],
      "metadata": {
        "id": "bMuZAsU969rq",
        "colab": {
          "base_uri": "https://localhost:8080/"
        },
        "outputId": "d2e0814d-55ac-4dad-bb98-36cd4c9c7a13"
      },
      "execution_count": 17,
      "outputs": [
        {
          "output_type": "stream",
          "name": "stdout",
          "text": [
            "Standard deviation: 2883.208726745858\n"
          ]
        }
      ]
    },
    {
      "cell_type": "markdown",
      "source": [
        "3. Encuentra la media del conjunto de datos, que calculaste en el Ejercicio 1.02, Calculando los Cuartiles para Ventas Adicionales, que es 3427.27.\n"
      ],
      "metadata": {
        "id": "DKVtOtYq6vwA"
      }
    },
    {
      "cell_type": "code",
      "source": [
        "# Calculate the mean\n",
        "mean = np.mean(data)\n",
        "print(\"Mean:\", mean)"
      ],
      "metadata": {
        "id": "U7K2ug4r6-Vn",
        "colab": {
          "base_uri": "https://localhost:8080/"
        },
        "outputId": "aebb897a-69b1-473e-d85b-814c8d9a001f"
      },
      "execution_count": 18,
      "outputs": [
        {
          "output_type": "stream",
          "name": "stdout",
          "text": [
            "Mean: 3427.2727272727275\n"
          ]
        }
      ]
    },
    {
      "cell_type": "markdown",
      "source": [
        "4. Resta cada punto de datos de la media y eleva el resultado al cuadrado.\n"
      ],
      "metadata": {
        "id": "KCrdHi0o6xmA"
      }
    },
    {
      "cell_type": "code",
      "source": [
        "import pandas as pd\n",
        "# Obtenemos la media\n",
        "mean = np.mean(data)\n",
        "mean"
      ],
      "metadata": {
        "id": "Z6gKpDmI6__q",
        "colab": {
          "base_uri": "https://localhost:8080/"
        },
        "outputId": "309547f5-be58-43b9-eb15-5a277efca194"
      },
      "execution_count": 19,
      "outputs": [
        {
          "output_type": "execute_result",
          "data": {
            "text/plain": [
              "3427.2727272727275"
            ]
          },
          "metadata": {},
          "execution_count": 19
        }
      ]
    },
    {
      "cell_type": "code",
      "source": [
        "# Subtract each point of data from the mean and square the result\n",
        "squared_differences_mean = data - mean\n",
        "squared_differences_mean"
      ],
      "metadata": {
        "colab": {
          "base_uri": "https://localhost:8080/"
        },
        "id": "L5H7xFmAWwEs",
        "outputId": "131be15b-81bb-4c2a-87d9-e94b44ca1a9b"
      },
      "execution_count": 20,
      "outputs": [
        {
          "output_type": "execute_result",
          "data": {
            "text/plain": [
              "array([ 1572.72727273, -1727.27272727,  4772.72727273, -1927.27272727,\n",
              "        -127.27272727,  5572.72727273, -1427.27272727, -3427.27272727,\n",
              "       -3427.27272727, -1127.27272727,  1272.72727273])"
            ]
          },
          "metadata": {},
          "execution_count": 20
        }
      ]
    },
    {
      "cell_type": "code",
      "source": [
        "squared_differences_square = np.square(data - mean)\n",
        "squared_differences_square"
      ],
      "metadata": {
        "colab": {
          "base_uri": "https://localhost:8080/"
        },
        "id": "2AJjs1bhW_bz",
        "outputId": "6195640d-4aed-495f-e3b4-e2a9634fee25"
      },
      "execution_count": 21,
      "outputs": [
        {
          "output_type": "execute_result",
          "data": {
            "text/plain": [
              "array([2.47347107e+06, 2.98347107e+06, 2.27789256e+07, 3.71438017e+06,\n",
              "       1.61983471e+04, 3.10552893e+07, 2.03710744e+06, 1.17461983e+07,\n",
              "       1.17461983e+07, 1.27074380e+06, 1.61983471e+06])"
            ]
          },
          "metadata": {},
          "execution_count": 21
        }
      ]
    },
    {
      "cell_type": "code",
      "source": [
        "# The sum of the squared calculation (only to show it**)\n",
        "dataframe = pd.DataFrame({\n",
        "    \"Add-on Sales($)\": data,\n",
        "    \"Diference with mean\": squared_differences_mean,\n",
        "    \"Diferencia con la Media al Cuadrado\": squared_differences_square,\n",
        "})\n",
        "\n",
        "print(dataframe)"
      ],
      "metadata": {
        "colab": {
          "base_uri": "https://localhost:8080/"
        },
        "id": "yUAQV1kHW9cb",
        "outputId": "1123fe91-4a0e-4d9e-cc33-1dc4bfa5e668"
      },
      "execution_count": 22,
      "outputs": [
        {
          "output_type": "stream",
          "name": "stdout",
          "text": [
            "    Add-on Sales($)  Diference with mean  Diferencia con la Media al Cuadrado\n",
            "0              5000          1572.727273                         2.473471e+06\n",
            "1              1700         -1727.272727                         2.983471e+06\n",
            "2              8200          4772.727273                         2.277893e+07\n",
            "3              1500         -1927.272727                         3.714380e+06\n",
            "4              3300          -127.272727                         1.619835e+04\n",
            "5              9000          5572.727273                         3.105529e+07\n",
            "6              2000         -1427.272727                         2.037107e+06\n",
            "7                 0         -3427.272727                         1.174620e+07\n",
            "8                 0         -3427.272727                         1.174620e+07\n",
            "9              2300         -1127.272727                         1.270744e+06\n",
            "10             4700          1272.727273                         1.619835e+06\n"
          ]
        }
      ]
    },
    {
      "cell_type": "markdown",
      "source": [
        "5. Suma los valores de Diferencia con la Media al Cuadrado, dando un total de 91,441,818.\n"
      ],
      "metadata": {
        "id": "pAivkGxE61ca"
      }
    },
    {
      "cell_type": "code",
      "source": [
        "squared_differences_square = sum(squared_differences_square)\n",
        "print(f\"{squared_differences_square:,.2f}\")"
      ],
      "metadata": {
        "id": "7FTsx0I97GMZ",
        "colab": {
          "base_uri": "https://localhost:8080/"
        },
        "outputId": "8f645225-a747-4c89-f581-8dd63da7508d"
      },
      "execution_count": 23,
      "outputs": [
        {
          "output_type": "stream",
          "name": "stdout",
          "text": [
            "91,441,818.18\n"
          ]
        }
      ]
    },
    {
      "cell_type": "markdown",
      "source": [
        "6. Divide la suma por el número de puntos de datos menos 1, que, en este caso, es 10, y toma su raíz cuadrada. Este cálculo debería resultar en 3,023.93 como la desviación estándar de la muestra.\n"
      ],
      "metadata": {
        "id": "w1e3lusd638o"
      }
    },
    {
      "cell_type": "code",
      "source": [
        "import math\n",
        "\n",
        "sample_standard_deviation = squared_differences_square / (len(data) -1)\n",
        "\n",
        "sample_standard_deviation = math.sqrt(sample_standard_deviation)\n",
        "print(f\"{sample_standard_deviation:,.2f}\")"
      ],
      "metadata": {
        "id": "6_7bsUIm7I3z",
        "colab": {
          "base_uri": "https://localhost:8080/"
        },
        "outputId": "fb3d0008-457e-46a2-a57f-61694a3cad23"
      },
      "execution_count": 24,
      "outputs": [
        {
          "output_type": "stream",
          "name": "stdout",
          "text": [
            "3,023.93\n"
          ]
        }
      ]
    },
    {
      "cell_type": "markdown",
      "source": [
        "7. Encuentra el primer y tercer cuartiles para calcular el RIQ. Este cálculo se puede encontrar en el Ejercicio 1.02, Calculando los Cuartiles para Ventas Adicionales, dándote 1,600 y 4,850. Luego, resta los dos para obtener un valor de 3,250.\n"
      ],
      "metadata": {
        "id": "Q6MGxqSH65hb"
      }
    },
    {
      "cell_type": "code",
      "source": [
        "import numpy as np\n",
        "\n",
        "# Ordena los datos\n",
        "data.sort()\n",
        "\n",
        "# Encuentra el primer cuartil\n",
        "q1 = np.quantile(data, 0.25)\n",
        "\n",
        "# Encuentra el cuarto cuartil\n",
        "q3 = np.quantile(data, 0.75)\n",
        "\n",
        "# Encuentra el IQR\n",
        "iqr = q3 - q1\n",
        "\n",
        "print(\"Primer cuartil:\", q1)\n",
        "print(\"Cuarto cuartil:\", q3)\n",
        "print(\"IQR:\", iqr)"
      ],
      "metadata": {
        "id": "qKJfFebc7NIg",
        "colab": {
          "base_uri": "https://localhost:8080/"
        },
        "outputId": "eddde9d0-9ff3-4d81-a61e-8d4e6e6de99c"
      },
      "execution_count": 25,
      "outputs": [
        {
          "output_type": "stream",
          "name": "stdout",
          "text": [
            "Primer cuartil: 1600.0\n",
            "Cuarto cuartil: 4850.0\n",
            "IQR: 3250.0\n"
          ]
        }
      ]
    },
    {
      "cell_type": "markdown",
      "source": [
        "En este ejercicio, calculaste el rango, la desviación estándar y el RIQ usando Python. En la siguiente sección, aprenderás cómo usar el análisis bivariado para encontrar patrones."
      ],
      "metadata": {
        "id": "A36a-FNb67Yw"
      }
    },
    {
      "cell_type": "markdown",
      "source": [
        "## 1.3.2 Análisis Bivariado\n",
        "Hasta ahora, hemos comprendido los métodos para describir una sola variable. Ahora, aprenderás cómo encontrar patrones con dos variables utilizando el análisis bivariado.\n",
        "\n",
        "### Gráficos de Dispersión\n",
        "Una de las formas más efectivas de llevar a cabo el análisis bivariado es mediante gráficos de dispersión.\n",
        "\n",
        "- Los gráficos de dispersión son esenciales para identificar patrones en análisis.\n",
        "- Los gráficos de dispersión son útiles para analizar dos variables.\n",
        "- Herramientas como matplotlib facilitan la creación de gráficos de dispersión."
      ],
      "metadata": {
        "id": "DDIpA_DK58Dr"
      }
    },
    {
      "cell_type": "markdown",
      "source": [
        "En un gráfico de dispersión, es útil identificar ciertos patrones. Mucha gente busca ver si, cuando una variable sube, la otra también lo hace o si baja. Esta tendencia sugiere que las dos variables podrían tener una relación matemática. Por ejemplo, a medida que la edad aumenta, suele subir el ingreso de una persona.\n",
        "\n",
        "La Figura 1.21 muestra un ejemplo de una tendencia lineal."
      ],
      "metadata": {
        "id": "igWF0bgMUoLW"
      }
    },
    {
      "cell_type": "code",
      "source": [
        "import matplotlib.pyplot as plt\n",
        "import numpy as np\n",
        "\n",
        "# Create the x-axis data\n",
        "x_data = [2, 3, 5, 7, 11, 13, 17, 19, 23, 29, 31, 37, 41, 43, 47, 53, 59, 61, 67, 71, 73, 79, 83, 89, 97]\n",
        "\n",
        "# Create the y-axis data\n",
        "y_data = [10, 14, 19, 16, 13, 19, 26, 34, 37, 40, 44, 52, 52, 61, 58, 55, 70, 62, 68, 81, 79, 95, 101, 91, 100]\n",
        "\n",
        "# Plot the data\n",
        "plt.title(\"Linear trend\")\n",
        "plt.scatter(x_data, y_data)\n",
        "plt.xlabel(\"edad\")\n",
        "plt.ylabel(\"ingreso\")\n",
        "plt.show()\n",
        "\n",
        "# Figura 1.21: La tendencia lineal ascendente entre dos variables, la edad y el ingreso de una persona. (sintetico)"
      ],
      "metadata": {
        "colab": {
          "base_uri": "https://localhost:8080/",
          "height": 472
        },
        "id": "UfZvFT1nVD-i",
        "outputId": "5abe47ba-51de-4189-e906-62724da98a80"
      },
      "execution_count": 26,
      "outputs": [
        {
          "output_type": "display_data",
          "data": {
            "text/plain": [
              "<Figure size 640x480 with 1 Axes>"
            ],
            "image/png": "[encoded data removed]"
          },
          "metadata": {}
        }
      ]
    },
    {
      "cell_type": "markdown",
      "source": [
        "También es relevante prestar atención a tendencias no lineales, tales como las cuadráticas, potenciales, inversas y logísticas. Observa las siguientes figursa para visualizar ejemplos de estas tendencias."
      ],
      "metadata": {
        "id": "mUBgYqQFQiZV"
      }
    },
    {
      "cell_type": "code",
      "source": [
        "import numpy as np\n",
        "import matplotlib.pyplot as plt\n",
        "\n",
        "# Generate x values\n",
        "x = np.linspace(-10, 10, 400)\n",
        "\n",
        "# Compute y values for each x\n",
        "y = x**2\n",
        "\n",
        "# Create the plot\n",
        "# plt.figure(figsize=(8, 6))\n",
        "plt.plot(x, y, label=\"y = x^2\")\n",
        "plt.title(\"Función Cuadrática\")\n",
        "plt.xlabel(\"x\")\n",
        "plt.ylabel(\"y\")\n",
        "# plt.grid(True)\n",
        "# plt.axhline(0, color='black',linewidth=0.5)\n",
        "# plt.axvline(0, color='black',linewidth=0.5)\n",
        "# plt.figure(figsize=(200, 300))\n",
        "plt.legend()\n",
        "plt.show()"
      ],
      "metadata": {
        "colab": {
          "base_uri": "https://localhost:8080/",
          "height": 472
        },
        "id": "ErG0vNNyYMLY",
        "outputId": "efb446f4-b7ca-4fb9-b1fb-9ecc1b3cc265"
      },
      "execution_count": 27,
      "outputs": [
        {
          "output_type": "display_data",
          "data": {
            "text/plain": [
              "<Figure size 640x480 with 1 Axes>"
            ],
            "image/png": "[encoded data removed]"
          },
          "metadata": {}
        }
      ]
    },
    {
      "cell_type": "code",
      "source": [
        "import numpy as np\n",
        "import matplotlib.pyplot as plt\n",
        "\n",
        "plt.title(\"Función Potencial\")\n",
        "\n",
        "def power(x, n):\n",
        "    return x**n\n",
        "\n",
        "x_values1 = [id for id in range(-10, 11)]\n",
        "y_values1 = [power(i, 3) for i in x_values1]\n",
        "\n",
        "plt.plot(x_values1, y_values1)\n",
        "plt.show()"
      ],
      "metadata": {
        "colab": {
          "base_uri": "https://localhost:8080/",
          "height": 452
        },
        "id": "qps5laSvOwYj",
        "outputId": "08f99bff-3679-4a0a-f4c7-9b77e9ae69df"
      },
      "execution_count": 1,
      "outputs": [
        {
          "output_type": "display_data",
          "data": {
            "text/plain": [
              "<Figure size 640x480 with 1 Axes>"
            ],
            "image/png": "[encoded data removed]"
          },
          "metadata": {}
        }
      ]
    },
    {
      "cell_type": "code",
      "source": [
        "import matplotlib.pyplot as plt\n",
        "\n",
        "plt.title(\"Inverse Function\")\n",
        "\n",
        "def inverse(x):\n",
        "    return 1/x\n",
        "\n",
        "x_values = [i for i in range(1, 11)]\n",
        "y_values = [inverse(i) for i in x_values]\n",
        "\n",
        "plt.plot(x_values, y_values)\n",
        "plt.show()"
      ],
      "metadata": {
        "colab": {
          "base_uri": "https://localhost:8080/",
          "height": 452
        },
        "id": "mGrOXBQ6PHBM",
        "outputId": "63203522-f543-42fd-ea62-4f2b8459e997"
      },
      "execution_count": 2,
      "outputs": [
        {
          "output_type": "display_data",
          "data": {
            "text/plain": [
              "<Figure size 640x480 with 1 Axes>"
            ],
            "image/png": "[encoded data removed]"
          },
          "metadata": {}
        }
      ]
    },
    {
      "cell_type": "code",
      "source": [
        "import numpy as np\n",
        "import matplotlib.pyplot as plt\n",
        "\n",
        "# Define the logistic function\n",
        "def logistic(x, L=1, k=1, x0=0):\n",
        "    return L / (1 + np.exp(-k*(x - x0)))\n",
        "\n",
        "# Generate x values\n",
        "x = np.linspace(-10, 10, 400)\n",
        "\n",
        "# Compute y values\n",
        "y = logistic(x, L=1, k=1, x0=0)\n",
        "\n",
        "# Plot\n",
        "plt.plot(x, y)\n",
        "plt.title('Logistic Function')\n",
        "plt.xlabel('x')\n",
        "plt.ylabel('f(x)')\n",
        "plt.show()\n",
        "\n"
      ],
      "metadata": {
        "colab": {
          "base_uri": "https://localhost:8080/",
          "height": 472
        },
        "id": "TVwPiLWCPnVh",
        "outputId": "7d1c09d1-e09b-4330-8c18-48e0b09a5a92"
      },
      "execution_count": 3,
      "outputs": [
        {
          "output_type": "display_data",
          "data": {
            "text/plain": [
              "<Figure size 640x480 with 1 Axes>"
            ],
            "image/png": "[encoded data removed]"
          },
          "metadata": {}
        }
      ]
    },
    {
      "cell_type": "markdown",
      "source": [
        "Nota\n",
        "\n",
        "El proceso de aproximar una tendencia con una función matemática se conoce como análisis de regresión. El análisis de regresión juega un papel crítico en la analítica pero está fuera del alcance de este curso."
      ],
      "metadata": {
        "id": "IVxT2YlIQ6zR"
      }
    },
    {
      "cell_type": "markdown",
      "source": [
        "Aunque las tendencias son útiles para entender y predecir patrones, detectar cambios en las tendencias suele ser igual de importante. Los cambios en las tendencias usualmente indican un cambio crítico en lo que estás midiendo y vale la pena examinar más a fondo para encontrar una explicación. Por ejemplo, las acciones de una empresa comienzan a caer después de haber subido durante mucho tiempo. La siguiente figura muestra un ejemplo de un cambio en una tendencia, donde la tendencia lineal decae después de x=50:"
      ],
      "metadata": {
        "id": "inHBYalFRTCS"
      }
    },
    {
      "cell_type": "markdown",
      "source": [
        "<figure>\n",
        "<center><img src='https://github.com/limspiga/data-modeling/blob/main/images/d7fb8354-8a86-4b3f-8474-7c46f6f91f14.png?raw=true' width=\"600\" />\n",
        "<figcaption>Figura 1.23: Un ejemplo de un cambio en una tendencia.</figcaption></center>\n",
        "</figure>"
      ],
      "metadata": {
        "id": "jrbSP38QVJpn"
      }
    },
    {
      "cell_type": "markdown",
      "source": [
        "Otro patrón que las personas suelen buscar es la periodicidad, es decir, patrones repetitivos en los datos. Estos patrones pueden indicar que dos variables pueden tener un comportamiento cíclico y pueden ser útiles para hacer predicciones. Un ejemplo muy común es la temperatura, que sube durante el día y baja durante la noche. La Figura 1.24 muestra un ejemplo de comportamiento periódico:\n"
      ],
      "metadata": {
        "id": "V3OjUD9zWD8V"
      }
    },
    {
      "cell_type": "markdown",
      "source": [
        "<figure>\n",
        "<center><img src='https://github.com/limspiga/data-modeling/blob/main/images/aef7db60-01ef-4904-969b-5c69f14f59ce.png?raw=true' width=\"600\" />\n",
        "<figcaption>Figura 1.24: Un ejemplo de comportamiento periódico.</figcaption></center>\n",
        "</figure>"
      ],
      "metadata": {
        "id": "UklqzcWaWE_A"
      }
    },
    {
      "cell_type": "markdown",
      "source": [
        "Los diagramas de dispersión ayudan a identificar valores que se desvían de la norma, conocidos como valores atípicos. Por ejemplo, en una figura, si bien la mayoría de los puntos se agrupan en una área determinada, algunos podrían estar separados, como dos puntos en la esquina superior izquierda (marcados en rojo). Estos puntos distantes podrían ser **valores atípicos** para ambas variables. Al analizar más detalladamente la relación entre las dos variables, podría ser conveniente descartar estos puntos para obtener un análisis más claro."
      ],
      "metadata": {
        "id": "5fuDocvXWSxT"
      }
    },
    {
      "cell_type": "markdown",
      "source": [
        "<figure>\n",
        "<center><img src='https://github.com/limspiga/data-modeling/blob/main/images/4e90d56e-5c54-42b6-8ba8-642afdae0be2.png?raw=true' width=\"600\" />\n",
        "<figcaption>Figura 1.25: Un diagrama de dispersión con dos valores atípicos.</figcaption></center>\n",
        "</figure>"
      ],
      "metadata": {
        "id": "-CbL1jFOWS67"
      }
    },
    {
      "cell_type": "markdown",
      "source": [
        "\n",
        "Las técnicas de diagramas de dispersión posibilitan a los expertos en datos identificar tendencias generales y transformar esos datos en insights valiosos."
      ],
      "metadata": {
        "id": "0j-c25aaW8jR"
      }
    },
    {
      "cell_type": "markdown",
      "source": [
        "### 1.3.2.1 Análisis de Tendencias Lineales y Coeficiente de Correlación de Pearson\n",
        "\n",
        "El análisis de datos bivariados a menudo revela una tendencia lineal. Esta tendencia indica si, al aumentar una variable, la otra también aumenta o disminuye de manera predecible. Algunas de estas relaciones lineales son más evidentes que otras. Las Figuras 1.26 y 1.27 muestran gráficos con una línea que representa la mejor adaptación de esta relación. Esta línea se determina mediante un método llamado regresión de Mínimos Cuadrados Ordinarios (OLS en inglés)."
      ],
      "metadata": {
        "id": "dX7LGLVsawc9"
      }
    },
    {
      "cell_type": "markdown",
      "source": [
        "<figure>\n",
        "<center><img src='https://github.com/limspiga/data-modeling/blob/main/images/2abaf142-3517-492b-98c0-cda0d557ef1f.png?raw=true' width=\"600\" />\n",
        "<figcaption>Figura 1.26: Un diagrama de dispersión con una tendencia lineal fuerte.</figcaption></center>\n",
        "</figure>"
      ],
      "metadata": {
        "id": "ppuMh5ypbiiF"
      }
    },
    {
      "cell_type": "markdown",
      "source": [
        "La siguiente figura muestra un diagrama de dispersión con una tendencia lineal débil:"
      ],
      "metadata": {
        "id": "pKJ0C1qUbpnW"
      }
    },
    {
      "cell_type": "markdown",
      "source": [],
      "metadata": {
        "id": "9ON1Gzzwoxaz"
      }
    },
    {
      "cell_type": "markdown",
      "source": [
        "<figure>\n",
        "<center><img src='https://github.com/limspiga/data-modeling/blob/main/images/cb4efe6b-5659-4a9f-8a2d-f32ab926e53d.png?raw=true' width=\"600\" />\n",
        "<figcaption>Figura 1.27: Un diagrama de dispersión con una tendencia lineal débil.</figcaption></center>\n",
        "</figure>"
      ],
      "metadata": {
        "id": "dG2-HTMXbqMY"
      }
    },
    {
      "cell_type": "markdown",
      "source": [
        "El coeficiente de correlación de Pearson, comúnmente llamado $r$, mide cuán fuertemente dos variables están relacionadas linealmente. Su valor puede ir de -1 a 1:\n",
        "- un $r$ cercano a 1 indica una fuerte correlación positiva,\n",
        "- mientras que un $r$ cercano a -1 muestra una fuerte correlación negativa.\n",
        "\n",
        "Si quieres calcular este coeficiente, hay una fórmula específica que puedes usar."
      ],
      "metadata": {
        "id": "wbAHY1R0d5zU"
      }
    },
    {
      "cell_type": "markdown",
      "source": [
        "\n",
        "\n",
        "<h1><center>\n",
        "$r = \\frac{\\sum_{i=1}^{n} (x_i - \\bar{x})(y_i - \\bar{y})}{\\sqrt{\\sum_{i=1}^{n} (x_i - \\bar{x})^2 \\sum_{i=1}^{n} (y_i - \\bar{y})^2}} $\n",
        "\n",
        "Figura 1.28: La fórmula para calcular el coeficiente de correlación de Pearson.\n",
        "</center></h1>"
      ],
      "metadata": {
        "id": "viGBRS4WcbK4"
      }
    },
    {
      "cell_type": "markdown",
      "source": [
        "Figura 1.28: La fórmula para calcular el coeficiente de correlación de Pearson\n",
        "\n",
        "Aquí, el denominador es la desviación estándar de las variables x e y. El numerador es la covarianza entre x e y. Esta fórmula es un poco compleja, así que trabajemos con un ejemplo para desglosar la fórmula en pasos específicos.\n",
        "\n"
      ],
      "metadata": {
        "id": "7suCPnqcjlzD"
      }
    },
    {
      "cell_type": "markdown",
      "source": [
        "#### Ejercicio 1.05: Cálculo del Coeficiente de Correlación de Pearson para Dos Variables\n",
        "\n",
        "En este ejercicio, calcularás el coeficiente de correlación de Pearson para la relación entre Horas Trabajadas por Semana y Ventas por Semana ($). En la figura, puedes ver algunos datos listados de 10 vendedores en el concesionario ZoomZoom en Houston y cuánto ganaron en ventas esa semana:\n",
        "\n",
        "\n",
        "<figure>\n",
        "<center>\n",
        "\n",
        "| Hours Worked Per Week | Sales Per Week ($) |\n",
        "|---|---|\n",
        "| 40 | 179480.58 |\n",
        "| 56 | 2495037.37 |\n",
        "| 50 | 2285369.51 |\n",
        "| 82 | 2367896.33 |\n",
        "| 41 | 1309745.16 |\n",
        "| 51 | 623013.69 |\n",
        "| 45 | 2989943.37 |\n",
        "| 90 | 1970316.24 |\n",
        "| 47 | 1845840.39 |\n",
        "| 72 | 2553231.33 |\n",
        "\n",
        "\n",
        "<figcaption>Figura 1.29: Datos para 10 vendedores en un concesionario ZoomZoom.</figcaption></center>\n",
        "</figure>\n"
      ],
      "metadata": {
        "id": "Vi3Icir0edwc"
      }
    },
    {
      "cell_type": "markdown",
      "source": [
        "\n",
        "Realiza los siguientes pasos para completar el ejercicio:\n",
        "\n",
        "1. Crea un diagrama de dispersión de las dos variables en Python utilizando los datos proporcionados en el escenario. Esto te ayudará a tener una estimación aproximada de lo que esperar para el coeficiente de correlación de Pearson.\n",
        "\n",
        "  No parece haber una fuerte relación lineal, pero sí parece haber un aumento general en Ventas por Semana ($) en relación con Horas Trabajadas por Semana.\n",
        "\n",
        "\n"
      ],
      "metadata": {
        "id": "P4UQndRRlD5f"
      }
    },
    {
      "cell_type": "code",
      "source": [
        "import matplotlib.pyplot as plt\n",
        "\n",
        "# Datos\n",
        "hours_worked = [40, 56, 50, 82, 41, 51, 45, 90, 47, 72]\n",
        "sales_per_week = [179480.58, 2495037.37, 2285369.51, 2367896.33, 1309745.16, 623013.69, 2989943.37, 1970316.24, 1845840.39, 2553231.33]\n",
        "\n",
        "# Crear el diagrama de dispersión\n",
        "plt.scatter(hours_worked, sales_per_week)\n",
        "plt.title(\"Diagrama de Dispersión de Horas Trabajadas vs Ventas por Semana\")\n",
        "plt.xlabel(\"Horas Trabajadas por Semana\")\n",
        "plt.ylabel(\"Ventas por Semana ($)\")\n",
        "\n",
        "# Mostrar el diagrama\n",
        "plt.show()"
      ],
      "metadata": {
        "colab": {
          "base_uri": "https://localhost:8080/",
          "height": 487
        },
        "id": "Kzm_JMEMfCZz",
        "outputId": "446821dc-667c-4d8e-b509-59504f2e4b93"
      },
      "execution_count": 8,
      "outputs": [
        {
          "output_type": "display_data",
          "data": {
            "text/plain": [
              "<Figure size 640x480 with 1 Axes>"
            ],
            "image/png": "[encoded data removed]"
          },
          "metadata": {}
        }
      ]
    },
    {
      "cell_type": "markdown",
      "source": [
        "\n",
        "\n",
        "\n",
        "2. Calcula la media de cada variable. Deberías obtener 57.40 para Horas Trabajadas por Semana y 1,861,987.43 para Ventas por Semana (\\$). Si no estás seguro de cómo calcular la media, consulta la sección de Tendencia Central en este capítulo.\n"
      ],
      "metadata": {
        "id": "ezCesANemQsR"
      }
    },
    {
      "cell_type": "code",
      "source": [
        "# Datos\n",
        "hours_worked = [40, 56, 50, 82, 41, 51, 45, 90, 47, 72]\n",
        "sales_per_week = [179480.58, 2495037.37, 2285369.51, 2367896.33, 1309745.16, 623013.69, 2989943.37, 1970316.24, 1845840.39, 2553231.33]\n",
        "\n",
        "# Calcular la media para Horas Trabajadas por Semana\n",
        "mean_hours = sum(hours_worked) / len(hours_worked)\n",
        "\n",
        "# Calcular la media para Ventas por Semana\n",
        "mean_sales = sum(sales_per_week) / len(sales_per_week)\n",
        "\n",
        "print(f\"Media de Horas Trabajadas por Semana: {mean_hours:.2f}\")\n",
        "print(f\"Media de Ventas por Semana: ${mean_sales:,.2f}\")"
      ],
      "metadata": {
        "colab": {
          "base_uri": "https://localhost:8080/"
        },
        "id": "NCsrfeiCgMiS",
        "outputId": "e9db98c0-fd43-4969-a909-c86ae197552b"
      },
      "execution_count": 9,
      "outputs": [
        {
          "output_type": "stream",
          "name": "stdout",
          "text": [
            "Media de Horas Trabajadas por Semana: 57.40\n",
            "Media de Ventas por Semana: $1,861,987.40\n"
          ]
        }
      ]
    },
    {
      "cell_type": "markdown",
      "source": [
        "\n",
        "3. Calcula cuatro valores para cada fila: la diferencia entre cada valor y su media y el cuadrado de la diferencia entre cada valor y su media. Luego, encuentra el producto de estas diferencias. Deberías obtener una tabla de valores, como se muestra en la siguiente figura:"
      ],
      "metadata": {
        "id": "Pk4AbGEBgPiZ"
      }
    },
    {
      "cell_type": "code",
      "source": [
        "import pandas as pd\n",
        "\n",
        "# Given data\n",
        "data = {\n",
        "    \"Hours Worked Per Week\": [40, 56, 50, 82, 41, 51, 45, 90, 47, 72],\n",
        "    \"Sales Per Week ($)\": [179480.58, 2495037.37, 2285369.51, 2367896.33, 1309745.16, 623013.69, 2989943.37, 1970316.24, 1845840.39, 2553231.33]\n",
        "}\n",
        "\n",
        "df = pd.DataFrame(data)\n",
        "\n",
        "# Calculate mean of each column\n",
        "mean_hours = df[\"Hours Worked Per Week\"].mean()\n",
        "mean_sales = df[\"Sales Per Week ($)\"].mean()\n",
        "\n",
        "# Calculate the difference from mean and the squared difference\n",
        "df[\"x-mean(x)\"] = df[\"Hours Worked Per Week\"] - mean_hours\n",
        "df[\"(x-mean(x))^2\"] = df[\"x-mean(x)\"] ** 2\n",
        "df[\"y-mean(y)\"] = df[\"Sales Per Week ($)\"] - mean_sales\n",
        "df[\"y-mean(y)^2\"] = df[\"y-mean(y)\"] ** 2\n",
        "\n",
        "# Compute the product of the differences\n",
        "df[\"[x-mean(x)][y-mean(y)]\"] = df[\"x-mean(x)\"] * df[\"y-mean(y)\"]\n",
        "\n",
        "print(df)\n"
      ],
      "metadata": {
        "colab": {
          "base_uri": "https://localhost:8080/"
        },
        "id": "HpZBKIvchVXF",
        "outputId": "b321b810-abfe-4b24-a120-0ad10dee2d91"
      },
      "execution_count": 14,
      "outputs": [
        {
          "output_type": "stream",
          "name": "stdout",
          "text": [
            "   Hours Worked Per Week  Sales Per Week ($)  x-mean(x)  (x-mean(x))^2  \\\n",
            "0                     40           179480.58      -17.4         302.76   \n",
            "1                     56          2495037.37       -1.4           1.96   \n",
            "2                     50          2285369.51       -7.4          54.76   \n",
            "3                     82          2367896.33       24.6         605.16   \n",
            "4                     41          1309745.16      -16.4         268.96   \n",
            "5                     51           623013.69       -6.4          40.96   \n",
            "6                     45          2989943.37      -12.4         153.76   \n",
            "7                     90          1970316.24       32.6        1062.76   \n",
            "8                     47          1845840.39      -10.4         108.16   \n",
            "9                     72          2553231.33       14.6         213.16   \n",
            "\n",
            "     y-mean(y)   y-mean(y)^2  [x-mean(x)][y-mean(y)]  \n",
            "0 -1682506.817  2.830829e+12            2.927562e+07  \n",
            "1   633049.973  4.007523e+11           -8.862700e+05  \n",
            "2   423382.113  1.792524e+11           -3.133028e+06  \n",
            "3   505908.933  2.559438e+11            1.244536e+07  \n",
            "4  -552242.237  3.049715e+11            9.056773e+06  \n",
            "5 -1238973.707  1.535056e+12            7.929432e+06  \n",
            "6  1127955.973  1.272285e+12           -1.398665e+07  \n",
            "7   108328.843  1.173514e+10            3.531520e+06  \n",
            "8   -16147.007  2.607258e+08            1.679289e+05  \n",
            "9   691243.933  4.778182e+11            1.009216e+07  \n"
          ]
        }
      ]
    },
    {
      "cell_type": "markdown",
      "source": [
        "\n",
        "\n",
        "<figure>\n",
        "<center>\n",
        "\n",
        "| Hours Worked Per Week | Sales Per Week ($) | x-mean(x) | (x-mean(x)^2) | y-mean(y) | y-mean(y)^2 | [x-mean(x)][y-mean(y)] |\n",
        "|---|---|---|---|---|---|---|\n",
        "| 40 | 179,480.56 | -17.40 | 302.76 | -1,582,506.85 | 2,830,829,303,631.31 | 29,275,619.21 |\n",
        "| 56 | 2,495,037.73 | -1.40 | 1.56 | 633,050.29 | 400,752,874,381.30 | -886,270.41 |\n",
        "| 50 | 2,285,358.51 | -7.40 | 54.76 | 423,382.07 | 179,252,379,435.48 | -3,133,027.34 |\n",
        "| 82 | 2,357,898.33 | 24.60 | 505,908.90 | 256,943,812,657.79 | 12,445,358.88 | 6,227,898.33 |\n",
        "| 41 | 1,309,745.16 | -16.40 | 268.96 | -552,242.27 | 304,971,527,314.18 | 9,056,773.27 |\n",
        "| 51 | 623,013.69 | -6.40 | 40.56 | -1,238,973.75 | 1,535,055,945,620.25 | 7,929,431.08 |\n",
        "| 45 | 2,989,943.37 | -12.40 | 153.76 | 1,127,955.94 | 1,272,284,593,638.99 | -13,986,653.61 |\n",
        "| 90 | 1,970,316.24 | 32.60 | 1,062,76 | 108,328.81 | 11,735,131,115.82 | -3,531,519.21 |\n",
        "| 47 | 1,845,840.39 | -10.40 | 108.16 | -16,147.04 | 260,726,862.48 | 167,929.20 |\n",
        "| 72 | 2,553,231.33 | 14.60 | 213.16 | 691,243 | 477,818,127,736.76 | 10,002,160.02 |\n",
        "\n",
        "\n",
        "<figcaption>Figura 1.31: Cálculos para el coeficiente de correlación de Pearson.</figcaption></center>\n",
        "</figure>"
      ],
      "metadata": {
        "id": "lgi3yLofpJGU"
      }
    },
    {
      "cell_type": "markdown",
      "source": [
        "4. Encuentra la suma de los términos al cuadrado y la suma del producto de las diferencias. Deberías obtener 2,812.40 para Horas Trabajadas por Semana (x), 7,268,904,226,420.96 para Ventas por Semana (y), y 54,492,841.19 para el producto de las diferencias.\n"
      ],
      "metadata": {
        "id": "7ma-BdiQmGQj"
      }
    },
    {
      "cell_type": "code",
      "source": [
        "# Sum of the squared terms\n",
        "sum_squared_x = df[\"(x-mean(x))^2\"].sum()\n",
        "sum_squared_y = df[\"y-mean(y)^2\"].sum()\n",
        "\n",
        "# Sum of the product of the differences\n",
        "sum_product_differences = df[\"[x-mean(x)][y-mean(y)]\"].sum()\n",
        "\n",
        "print(\"Sum of squared terms for Hours Worked Per Week:\", sum_squared_x)\n",
        "print(\"Sum of squared terms for Sales Per Week ($):\", sum_squared_y)\n",
        "print(\"Sum of the product of the differences:\", sum_product_differences)\n"
      ],
      "metadata": {
        "colab": {
          "base_uri": "https://localhost:8080/"
        },
        "id": "g8mtqkryh97O",
        "outputId": "d9c5af4d-e1f7-43b3-c2ae-d4b61bf26dd9"
      },
      "execution_count": 15,
      "outputs": [
        {
          "output_type": "stream",
          "name": "stdout",
          "text": [
            "Sum of squared terms for Hours Worked Per Week: 2812.3999999999996\n",
            "Sum of squared terms for Sales Per Week ($): 7268903770624.862\n",
            "Sum of the product of the differences: 54492841.692\n"
          ]
        }
      ]
    },
    {
      "cell_type": "markdown",
      "source": [
        "5. Toma la raíz cuadrada de la suma de las diferencias para obtener 53.03 para Horas Trabajadas por Semana (x) y 2,696,090.55 para Ventas por Semana (y).\n"
      ],
      "metadata": {
        "id": "Nd3NlaTFiCum"
      }
    },
    {
      "cell_type": "code",
      "source": [
        "import math\n",
        "\n",
        "# Square root of the sum of the squared terms\n",
        "sqrt_sum_squared_x = math.sqrt(sum_squared_x)\n",
        "sqrt_sum_squared_y = math.sqrt(sum_squared_y)\n",
        "\n",
        "print(\"Square root of the sum of squared differences for Hours Worked Per Week:\", sqrt_sum_squared_x)\n",
        "print(\"Square root of the sum of squared differences for Sales Per Week ($):\", sqrt_sum_squared_y)\n"
      ],
      "metadata": {
        "colab": {
          "base_uri": "https://localhost:8080/"
        },
        "id": "cKMisIvBiEHc",
        "outputId": "a7710daa-4908-4148-af6b-52c919819c56"
      },
      "execution_count": 16,
      "outputs": [
        {
          "output_type": "stream",
          "name": "stdout",
          "text": [
            "Square root of the sum of squared differences for Hours Worked Per Week: 53.0320657715688\n",
            "Square root of the sum of squared differences for Sales Per Week ($): 2696090.460393505\n"
          ]
        }
      ]
    },
    {
      "cell_type": "markdown",
      "source": [
        "6. Introduce los valores en la ecuación de la Figura 1.32 para obtener 0.38. El cálculo será: 54492841.19/(53.03 * 2696090.55) = 0.38:"
      ],
      "metadata": {
        "id": "JYO11yREiEjC"
      }
    },
    {
      "cell_type": "code",
      "source": [
        "# Calculate the Pearson correlation coefficient\n",
        "r = sum_product_differences / (sqrt_sum_squared_x * sqrt_sum_squared_y)\n",
        "\n",
        "print(\"Pearson correlation coefficient:\", r)\n"
      ],
      "metadata": {
        "colab": {
          "base_uri": "https://localhost:8080/"
        },
        "id": "0RAlnRUGiEvz",
        "outputId": "fedebece-0b9a-4b86-84c6-76e0bec9ce93"
      },
      "execution_count": 17,
      "outputs": [
        {
          "output_type": "stream",
          "name": "stdout",
          "text": [
            "Pearson correlation coefficient: 0.38112413500250136\n"
          ]
        }
      ]
    },
    {
      "cell_type": "markdown",
      "source": [
        "\n",
        "\n",
        "<h1><center>\n",
        "$r = \\frac{\\sum_{i=1}^{n} (x_i - \\bar{x})(y_i - \\bar{y})}{\\sqrt{\\sum_{i=1}^{n} (x_i - \\bar{x})^2 \\sum_{i=1}^{n} (y_i - \\bar{y})^2}} = \\frac{54,492,841.19 }{53.03 * 2,696,090.55} = 0.38$\n",
        "\n",
        "\n",
        "  Figura 1.32: El cálculo final del coeficiente de correlación de Pearson.\n",
        "</center></h1>\n",
        "\n",
        "\n"
      ],
      "metadata": {
        "id": "0J5R_xremp0w"
      }
    },
    {
      "cell_type": "markdown",
      "source": [
        "Aprendiste cómo calcular el coeficiente de correlación de Pearson para dos variables en este ejercicio y obtuviste un resultado final de 0.38 después de usar la fórmula."
      ],
      "metadata": {
        "id": "yXnzEL1fmrV6"
      }
    },
    {
      "cell_type": "markdown",
      "source": [
        "### 1.3.2.2 Interpretando y analizando el coeficiente de correlación\n",
        "Realizar el cálculo del coeficiente de correlación de manera manual puede resultar desafiante. En general, es más conveniente hacerlo mediante una computadora. Tal como verás en el Capítulo 3 titulado \"SQL para la Preparación de Datos\", se puede determinar el coeficiente de correlación de Pearson usando SQL.\n",
        "\n",
        "Para entender el significado del coeficiente de correlación de Pearson, es útil referirse a la tabla presentada en la Figura 1.33. Un coeficiente cercano a 0 indica una correlación débil. Por otro lado, cuando el valor absoluto del coeficiente es alto, es una señal de que los datos probablemente se alinean más estrechamente a una línea recta."
      ],
      "metadata": {
        "id": "qZ2eGSZ8oqWX"
      }
    },
    {
      "cell_type": "markdown",
      "source": [
        "<figure>\n",
        "<center>\n",
        "\n",
        "| Valor de Correlación            | Interpretación               |\n",
        "|---------------------------------|------------------------------|\n",
        "| Correlación Negativa Muy Fuerte | -1.0<r<=-0.7                 |\n",
        "| Correlación Negativa Fuerte     | -0.7<r<=-0.4                 |\n",
        "| Correlación Negativa Moderada   | -0.4<r<-0.2                  |\n",
        "| Correlación Débil a Inexistente | -0.2 < r < 0.2               |\n",
        "| Correlación Positiva Moderada   | 0.2 < r < 0.4                |\n",
        "| Correlación Positiva Fuerte     | 0.4 <r< 0.7                  |\n",
        "| Correlación Positiva Muy Fuerte | 0.7<r<1.0                    |\n",
        "\n",
        "\n",
        "<figcaption>Figura 1.33: Interpretando el coeficiente de correlación de Pearson.</figcaption></center>\n",
        "</figure>"
      ],
      "metadata": {
        "id": "uZ3m-V_xpp_t"
      }
    },
    {
      "cell_type": "markdown",
      "source": [
        "Al analizar el coeficiente de correlación, es esencial considerar algunos aspectos.\n",
        "- Primero, este coeficiente evalúa qué tan bien se alinean dos variables a una tendencia lineal.\n",
        "- Es posible que dos variables muestren una relación significativa y, aún así, presenten un coeficiente de correlación de Pearson moderado o bajo.\n",
        "\n",
        "Por ejemplo, observa los puntos en la Figura 1.34. Si calculas el coeficiente de correlación para estas dos variables, encontrarás que es -0.08. Sin embargo, la curva tiene una relación cuadrática muy clara. Por lo tanto, cuando observes los coeficientes de correlación de datos bivariados, busca relaciones no lineales que puedan describir la relación entre las dos variables:\n"
      ],
      "metadata": {
        "id": "fD4-q5H9qLbL"
      }
    },
    {
      "cell_type": "markdown",
      "source": [
        "<figure>\n",
        "<center><img src='https://github.com/limspiga/data-modeling/blob/main/images/5f94cd13-f6e0-4124-ba97-ef01586edf20.png?raw=true' width=\"600\" />\n",
        "<figcaption>Figura 1.34: Una fuerte relación no lineal con un coeficiente de correlación bajo.</figcaption></center>\n",
        "</figure>\n",
        "\n"
      ],
      "metadata": {
        "id": "24Yb3r1xroHH"
      }
    },
    {
      "cell_type": "markdown",
      "source": [
        "\n",
        "\n",
        "- La cantidad de puntos utilizados en el cálculo de una correlación es crucial.\n",
        "- Con solo dos puntos, se puede definir una línea recta, pero esto no garantiza una correlación representativa con más datos.\n",
        "- Los coeficientes de correlación basados en menos de 30 puntos de datos pueden no ser fiables y deben ser considerados con cautela.\n",
        "- El objetivo es tener una muestra amplia y confiable para obtener correlaciones más robustas.\n",
        "- Los valores atípicos pueden influir negativamente en diversas estadísticas, incluido el coeficiente de correlación.\n",
        "- En datos bivariados, un solo valor atípico puede sesgar significativamente el coeficiente de correlación.\n",
        "- Es vital identificar y, si es necesario, eliminar valores atípicos, especialmente en conjuntos de datos más pequeños."
      ],
      "metadata": {
        "id": "2GTshxqWr_Fn"
      }
    },
    {
      "cell_type": "markdown",
      "source": [
        "<figure>\n",
        "<center><img src='https://github.com/limspiga/data-modeling/blob/main/images/faf1984a-3028-4a42-b623-1a43d7812555.png?raw=true' width=\"600\" />\n",
        "<figcaption>Figure 1.35: Calculating r for a scatterplot with an outlier.</figcaption></center>\n",
        "</figure>\n"
      ],
      "metadata": {
        "id": "LAd5M4xhsPdV"
      }
    },
    {
      "cell_type": "markdown",
      "source": [
        "Una trampa común en el análisis de datos es asumir que \"correlación implica causalidad\". Esencialmente, si dos variables, digamos $x$ e $y$, muestran correlación, no necesariamente significa que $x$ cause $y$.\n",
        "\n",
        "Por ejemplo, si observamos una correlación de 0.5 entre \"Horas Trabajadas por Semana\" y \"Ventas por Semana\", es fácil concluir erróneamente que trabajar más horas directamente aumenta las ventas. No obstante, esta correlación no prueba dicha afirmación.\n",
        "\n",
        "Hay varias posibles explicaciones:\n",
        "\n",
        "- A medida que aumentan las ventas, aumenta el papeleo, haciendo que el equipo trabaje más horas. Aquí, más ventas llevan a más horas de trabajo, no al revés.\n",
        "- Un tercer factor, como la experiencia del vendedor, podría influir en ambas variables. Los vendedores con más experiencia podrían trabajar más horas y ser más eficientes en las ventas. En este caso, el factor subyacente a considerar es la experiencia del vendedor, no necesariamente las horas trabajadas.\n",
        "\n",
        "Es vital, como analista de datos, discernir entre correlación y causalidad y explorar todas las posibles razones detrás de cualquier correlación observada.\n",
        "\n"
      ],
      "metadata": {
        "id": "mLY4JLKjso5w"
      }
    },
    {
      "cell_type": "markdown",
      "source": [
        "### 1.3.2.3 Datos de Series Temporales\n",
        "\n",
        "A continuación, una versión más clara y simplificada del texto:\n",
        "\n",
        "Las series temporales son análisis donde el tiempo es la variable principal. Por ejemplo, la Figura 1.36 muestra datos desde enero de 2010 hasta septiembre de 2012.\n",
        "\n",
        "Aunque no siempre se percibe así, las fechas son datos cuantitativos. Analizar cómo evolucionan las cosas con el tiempo es crucial en las empresas, ya que ayuda a entender el contexto del negocio.\n",
        "\n",
        "Los patrones que encontramos en otros análisis también se ven en series temporales. Estas series son valiosas porque señalan cuándo sucedieron ciertos cambios. Identificar estos momentos puede ayudarnos a entender qué provocó esos cambios."
      ],
      "metadata": {
        "id": "ipRBa9PSssTv"
      }
    },
    {
      "cell_type": "markdown",
      "source": [
        "<figure>\n",
        "<center><img src='https://github.com/limspiga/data-modeling/blob/main/images/9f4e7cae-fcad-42ba-88c0-e730ec8c40ee.png?raw=true' width=\"600\" />\n",
        "<figcaption>Figure 1.36: An example of a time series.</figcaption></center>\n",
        "</figure>\n"
      ],
      "metadata": {
        "id": "q4GNgIi7s22b"
      }
    },
    {
      "cell_type": "markdown",
      "source": [
        "Ahora examinarás un pequeño conjunto de datos para demostrar cómo realizar un análisis estadístico básico."
      ],
      "metadata": {
        "id": "1Z7sT2ZktRNI"
      }
    },
    {
      "cell_type": "markdown",
      "source": [
        "### Actividad 1.02: Explorando Datos de Ventas de Concesionarios\n",
        "En esta actividad, explorarás un conjunto de datos utilizando estadísticas. Como analista de datos para ZoomZoom, una compañía especializada en vehículos eléctricos, estás realizando un análisis de alto nivel sobre las ventas anuales en concesionarios de todo el país utilizando un archivo .csv.\n",
        "1. Carga el dataset dealerships.csv\n",
        "\n",
        "\n"
      ],
      "metadata": {
        "id": "cLdBw19ltsP4"
      }
    },
    {
      "cell_type": "code",
      "source": [
        "import pandas as pd\n",
        "!curl https://raw.githubusercontent.com/limspiga/data-modeling/main/datasets/dealerships.csv  -O\n",
        "\n",
        "df = pd.read_csv(\"dealerships.csv\")"
      ],
      "metadata": {
        "colab": {
          "base_uri": "https://localhost:8080/"
        },
        "id": "5sDU8Zly8hCv",
        "outputId": "abdb089c-f6c6-4f3a-d85e-2ca7b8d3c565"
      },
      "execution_count": 4,
      "outputs": [
        {
          "output_type": "stream",
          "name": "stdout",
          "text": [
            "  % Total    % Received % Xferd  Average Speed   Time    Time     Time  Current\n",
            "                                 Dload  Upload   Total   Spent    Left  Speed\n",
            "\r  0     0    0     0    0     0      0      0 --:--:-- --:--:-- --:--:--     0\r100   613  100   613    0     0   2954      0 --:--:-- --:--:-- --:--:--  2961\n"
          ]
        }
      ]
    },
    {
      "cell_type": "markdown",
      "source": [
        "\n",
        "2. Realiza una distribución de frecuencia para el número de empleadas en un concesionario.\n"
      ],
      "metadata": {
        "id": "_k2DOVNT8kF0"
      }
    },
    {
      "cell_type": "code",
      "source": [
        "print(df)"
      ],
      "metadata": {
        "colab": {
          "base_uri": "https://localhost:8080/"
        },
        "id": "xyoidboq84_u",
        "outputId": "68d9b827-e018-4042-bfb5-d59a4a792640"
      },
      "execution_count": 32,
      "outputs": [
        {
          "output_type": "stream",
          "name": "stdout",
          "text": [
            "            Location  Net Annual Sales  Number of Female Employees\n",
            "0       Millburn, NJ       150803012.0                          27\n",
            "1    Los Angeles, CA       110872084.0                          17\n",
            "2        Houston, TX       183945873.0                          22\n",
            "3          Miami, FL       156355396.0                          18\n",
            "4      San Mateo, CA       143108603.0                          17\n",
            "5        Seattle, WA       142755480.0                          33\n",
            "6       Arlington VA       144772604.0                          28\n",
            "7       Portland, OR       179608438.0                          32\n",
            "8           Reno, NV       145101244.0                          19\n",
            "9        Chicago, IL       171491596.0                          24\n",
            "10       Atlanta, GA       198386988.0                          27\n",
            "11       Orlando, FL       180188054.0                          24\n",
            "12  Jacksonville, FL       158479693.0                          32\n",
            "13    Round Rock, TX       181820474.0                          27\n",
            "14       Phoenix, AZ        95512810.7                          18\n",
            "15     Charlotte, NC       199653776.0                          32\n",
            "16  Philadelphia, PA       193111679.0                          31\n",
            "17   Kansas City, MO       176816637.0                          35\n",
            "18        Dallas, TX       168769837.0                          33\n",
            "19        Boston, MA       350520724.0                          20\n"
          ]
        }
      ]
    },
    {
      "cell_type": "code",
      "source": [
        "import pandas as pd\n",
        "\n",
        "# Creando intervalos\n",
        "bins = [12, 15, 19, 24, 29, 34, 39]\n",
        "labels = ['12-14','15-19', '20-24', '25-29', '30-34', '35-39']\n",
        "\n",
        "# Agregando una columna con los intervalos\n",
        "df['Employee Interval'] = pd.cut(df['Number of Female Employees'], bins=bins, labels=labels, right=False)\n",
        "\n",
        "# Creando la distribución de frecuencia\n",
        "frequency_distribution = df['Employee Interval'].value_counts().sort_index()\n",
        "\n",
        "# print(frequency_distribution)\n",
        "\n",
        "# Generando el histograma\n",
        "plt.hist(df['Number of Female Employees'], bins=30)\n",
        "plt.title('Histogram of Female Employees')\n",
        "plt.xlabel('Number of Female Employees')\n",
        "plt.ylabel('Frequency')\n",
        "plt.grid(axis='y')\n"
      ],
      "metadata": {
        "colab": {
          "base_uri": "https://localhost:8080/",
          "height": 472
        },
        "id": "BJUbv2XaBtOr",
        "outputId": "22ebb481-ee5c-44b6-e356-2eb315905762"
      },
      "execution_count": 34,
      "outputs": [
        {
          "output_type": "display_data",
          "data": {
            "text/plain": [
              "<Figure size 640x480 with 1 Axes>"
            ],
            "image/png": "[encoded data removed]"
          },
          "metadata": {}
        }
      ]
    },
    {
      "cell_type": "markdown",
      "source": [
        "3. Determina las ventas anuales promedio y medianas para un concesionario.\n"
      ],
      "metadata": {
        "id": "yuQBd0Sv85js"
      }
    },
    {
      "cell_type": "code",
      "source": [
        "df = pd.DataFrame(data)\n",
        "\n",
        "# Calculando ventas anuales promedio y medianas\n",
        "average_sales = df['Net Annual Sales'].mean()\n",
        "median_sales = df['Net Annual Sales'].median()\n",
        "\n",
        "print(f\"Ventas Anuales Promedio: ${average_sales:,.2f}\")\n",
        "print(f\"Ventas Anuales Medianas: ${median_sales:,.2f}\")"
      ],
      "metadata": {
        "colab": {
          "base_uri": "https://localhost:8080/"
        },
        "id": "V9pmOQYNEFXE",
        "outputId": "c6a616f2-dc01-42b1-dd2d-ba6786991a21"
      },
      "execution_count": 35,
      "outputs": [
        {
          "output_type": "stream",
          "name": "stdout",
          "text": [
            "Ventas Anuales Promedio: $171,603,750.13\n",
            "Ventas Anuales Medianas: $170,130,716.50\n"
          ]
        }
      ]
    },
    {
      "cell_type": "markdown",
      "source": [
        "4. Determina la desviación estándar de las ventas.\n"
      ],
      "metadata": {
        "id": "_rMKTjA3EHdu"
      }
    },
    {
      "cell_type": "code",
      "source": [
        "# Calculando la desviación estándar de las ventas anuales\n",
        "std_sales = df['Net Annual Sales'].std()\n",
        "print(f\"Desviación Estándar de las Ventas Anuales: ${std_sales:,.2f}\")"
      ],
      "metadata": {
        "colab": {
          "base_uri": "https://localhost:8080/"
        },
        "id": "yINcbBA6EJaP",
        "outputId": "3dc9c3bd-6849-42d6-b99a-846b97fdbc27"
      },
      "execution_count": 38,
      "outputs": [
        {
          "output_type": "stream",
          "name": "stdout",
          "text": [
            "Desviación Estándar de las Ventas Anuales: $50,152,290.42\n"
          ]
        }
      ]
    },
    {
      "cell_type": "markdown",
      "source": [
        "5. ¿Alguno de los concesionarios parece ser un valor atípico? Explica tu razonamiento."
      ],
      "metadata": {
        "id": "0V35cVeEEJka"
      }
    },
    {
      "cell_type": "code",
      "source": [
        "df = pd.DataFrame(data)\n",
        "\n",
        "# # Calculando ventas anuales promedio y medianas\n",
        "number_of_female_employees = df['Number of Female Employees']\n",
        "net_annual_sales = df['Net Annual Sales']\n",
        "\n",
        "# Crear el diagrama de dispersión\n",
        "plt.figure(figsize=(12, 8))\n",
        "plt.scatter(net_annual_sales, number_of_female_employees, color='blue')\n",
        "\n",
        "# Etiquetas y título\n",
        "plt.title('Diagrama de Dispersión: Ventas Anuales vs. Número de Empleadas')\n",
        "plt.xlabel('Ventas Anuales (Netas)')\n",
        "plt.ylabel('Número de Empleadas')\n",
        "plt.grid(True)\n",
        "\n",
        "# Mostrar el diagrama\n",
        "plt.show()"
      ],
      "metadata": {
        "colab": {
          "base_uri": "https://localhost:8080/",
          "height": 719
        },
        "id": "wa6dSunmLEqs",
        "outputId": "a216b6c7-7ba3-4fd7-81c2-2a38d122f4f2"
      },
      "execution_count": 51,
      "outputs": [
        {
          "output_type": "display_data",
          "data": {
            "text/plain": [
              "<Figure size 1200x800 with 1 Axes>"
            ],
            "image/png": "[encoded data removed]"
          },
          "metadata": {}
        }
      ]
    },
    {
      "cell_type": "code",
      "source": [
        "import numpy as np\n",
        "\n",
        "# Datos de ventas anuales\n",
        "# # Calculando ventas anuales promedio y medianas\n",
        "number_of_female_employees = df['Number of Female Employees']\n",
        "net_annual_sales = df['Net Annual Sales']\n",
        "\n",
        "# Calcular Q1 y Q3\n",
        "Q1 = np.percentile(net_annual_sales, 25)\n",
        "Q3 = np.percentile(net_annual_sales, 75)\n",
        "\n",
        "# Calcular IQR\n",
        "IQR = Q3 - Q1\n",
        "\n",
        "print(f\"Primer Cuartil (Q1): {Q1}\")\n",
        "print(f\"Tercer Cuartil (Q3): {Q3}\")\n",
        "print(f\"Rango Intercuartílico (IQR): {IQR}\")\n",
        "\n",
        "# Si deseas identificar valores atípicos puedes usar los siguientes límites:\n",
        "lower_bound = Q1 - 1.5 * IQR\n",
        "upper_bound = Q3 + 1.5 * IQR\n",
        "\n",
        "print(f\"Límite inferior para detectar valores atípicos: {lower_bound}\")\n",
        "print(f\"Límite superior para detectar valores atípicos: {upper_bound}\")\n",
        "\n",
        "# Valores atípicos\n",
        "outliers = [value for value in net_annual_sales if value < lower_bound or value > upper_bound]\n",
        "print(f\"Valores atípicos: {outliers}\")"
      ],
      "metadata": {
        "colab": {
          "base_uri": "https://localhost:8080/"
        },
        "id": "0TZN5RBDMNMw",
        "outputId": "5d54b4e4-8f3f-4a37-e5ef-7970b529870d"
      },
      "execution_count": 52,
      "outputs": [
        {
          "output_type": "stream",
          "name": "stdout",
          "text": [
            "Primer Cuartil (Q1): 145019084.0\n",
            "Tercer Cuartil (Q3): 182351823.75\n",
            "Rango Intercuartílico (IQR): 37332739.75\n",
            "Límite inferior para detectar valores atípicos: 89019974.375\n",
            "Límite superior para detectar valores atípicos: 238350933.375\n",
            "Valores atípicos: [350520724.0]\n"
          ]
        }
      ]
    },
    {
      "cell_type": "code",
      "source": [
        "# El concesionario de Boston, MA es un valor atípico.\n",
        "# Esto se puede demostrar gráficamente o utilizando el método IQR."
      ],
      "metadata": {
        "id": "GEBpEjkxLrpf"
      },
      "execution_count": null,
      "outputs": []
    },
    {
      "cell_type": "code",
      "source": [],
      "metadata": {
        "id": "2spby1SNMcFC"
      },
      "execution_count": null,
      "outputs": []
    },
    {
      "cell_type": "markdown",
      "source": [
        "6. Calcula los quintiles (cinco cuantiles) de las ventas anuales.\n"
      ],
      "metadata": {
        "id": "cvnTCwDTEWYz"
      }
    },
    {
      "cell_type": "code",
      "source": [
        "# Calculando los quintiles\n",
        "quintiles = df['Net Annual Sales'].quantile([0.2, 0.4, 0.6, 0.8, 1.0])\n",
        "print(quintiles)"
      ],
      "metadata": {
        "colab": {
          "base_uri": "https://localhost:8080/"
        },
        "id": "lLMMrIESEX2U",
        "outputId": "2d88abb1-fe1d-4265-fdd0-ae9aaf533989"
      },
      "execution_count": 39,
      "outputs": [
        {
          "output_type": "stream",
          "name": "stdout",
          "text": [
            "0.2    144439803.8\n",
            "0.4    157629974.2\n",
            "0.6    177933357.4\n",
            "0.8    185779034.2\n",
            "1.0    350520724.0\n",
            "Name: Net Annual Sales, dtype: float64\n"
          ]
        }
      ]
    },
    {
      "cell_type": "markdown",
      "source": [
        "7. Calcula el coeficiente de correlación de ventas anuales con respecto a las empleadas e interpreta el resultado.\n"
      ],
      "metadata": {
        "id": "b0fSZw9hEYHP"
      }
    },
    {
      "cell_type": "code",
      "source": [
        "# Calculando el coeficiente de correlación\n",
        "correlation_coefficient = df['Net Annual Sales'].corr(df['Number of Female Employees'])\n",
        "\n",
        "print(f\"Coeficiente de correlación: {correlation_coefficient:.2f}\")"
      ],
      "metadata": {
        "colab": {
          "base_uri": "https://localhost:8080/"
        },
        "id": "asnPLRbeFMef",
        "outputId": "8a6da35d-bbf0-40be-eb26-d70660fd08f5"
      },
      "execution_count": 40,
      "outputs": [
        {
          "output_type": "stream",
          "name": "stdout",
          "text": [
            "Coeficiente de correlación: 0.10\n"
          ]
        }
      ]
    },
    {
      "cell_type": "code",
      "source": [
        "# Removing the outlier of Boston\n",
        "# Remove the last row\n",
        "df2 = df.iloc[:-1]\n",
        "\n",
        "# Calculando el coeficiente de correlación\n",
        "correlation_coefficient_without_outlier = df2['Net Annual Sales'].corr(df2['Number of Female Employees'])\n",
        "print(f\"Coeficiente de correlación: {correlation_coefficient_without_outlier:.2f}\")\n"
      ],
      "metadata": {
        "colab": {
          "base_uri": "https://localhost:8080/"
        },
        "id": "_rt2-UiQF0W5",
        "outputId": "8a2af41a-6e15-4a82-ceee-8f6553527f78"
      },
      "execution_count": 41,
      "outputs": [
        {
          "output_type": "stream",
          "name": "stdout",
          "text": [
            "Coeficiente de correlación: 0.55\n"
          ]
        }
      ]
    },
    {
      "cell_type": "markdown",
      "source": [
        "Si quitas el dato inusual de Boston, el coeficiente de correlación es de 0.55. Esto indica una relación fuerte entre la cantidad de mujeres trabajadoras y las ventas en un concesionario. Sin embargo, esto no necesariamente significa que más mujeres trabajadoras resulten en mayores ventas. Puede que concesionarios grandes simplemente tengan más empleados, incluyendo mujeres. Así que hay que considerar otras posibles explicaciones para esta correlación.\n",
        "\n",
        "\n",
        "Has aprendido cómo manejar datos, procesos y tipos en esta actividad. En general, has aprendido cómo usar técnicas univariadas y bivariadas para el análisis de datos en esta sección. ¿Pero cómo manejas los datos faltantes? La siguiente sección te ayuda a entender cómo enfrentar esta posibilidad."
      ],
      "metadata": {
        "id": "gnzExQLuJN2-"
      }
    },
    {
      "cell_type": "markdown",
      "source": [
        "## 1.4 Trabajando con Datos Faltantes\n",
        "\n",
        "En todos los ejemplos que hemos visto, los conjuntos de datos son claros y sencillos. Pero en la vida real, los datos suelen ser más complejos. Por ejemplo, a veces faltan valores en los datos.\n",
        "\n",
        "En el Capítulo 3, titulado \"SQL para Preparación de Datos\", profundizaremos en cómo preparar datos. Pero aquí, veremos algunas tácticas para tratar con datos incompletos. Algunas de estas tácticas son:\n",
        "\n",
        "- **Eliminar filas:** Si solo algunas filas (menos del 5% de tus datos) tienen información faltante, podrías simplemente quitar esas filas. Esto no cambiaría mucho tus resultados.\n",
        "\n",
        "- **Rellenar con media/mediana/moda:** Si entre el 5% y 25% de una variable está incompleta, puedes completar esos espacios usando el valor promedio, mediano o más frecuente de esa columna. Esto puede añadir un ligero sesgo a tus resultados, pero te ayuda a conservar más datos.\n",
        "\n",
        "- **Uso de modelos para rellenar:** Si tienes las habilidades (o trabajas con alguien que las tiene), puedes usar un modelo matemático para estimar y llenar los valores que faltan.\n",
        "\n",
        "- **Eliminar columnas:** Si una columna tiene demasiada información faltante, podría ser mejor quitarla en vez de asumir o adivinar los valores.\n"
      ],
      "metadata": {
        "id": "JP2yt56PuO11"
      }
    },
    {
      "cell_type": "markdown",
      "source": [
        "## 1.5  Prueba de Significancia Estadística\n",
        "\n",
        "\n",
        "Los analistas a menudo quieren ver si hay diferencias reales entre dos grupos o si un grupo cambió con el tiempo. Pero, a veces, lo que parece ser una diferencia podría ser simplemente suerte o coincidencia.\n",
        "\n",
        "Piensa en las pruebas A/B en marketing. Aquí, las empresas prueban dos versiones diferentes de una página web para ver cuál recibe más clics. Imagina que agrandas una foto de un producto: ¿Hará que más gente haga clic? Tal vez observes que la versión A tiene un 10% de clics y la versión B un 11%. ¿Significa eso que B es realmente mejor, o fue solo un día peculiar? Para estar seguro, se necesita una herramienta estadística.\n",
        "\n",
        "La prueba de significancia estadística es el método para determinar si los datos que tienes respaldan una cierta hipótesis. Para construir tal método, hay varias partes principales que debes definir primero, ver Figura 1.40.\n",
        "\n",
        "(1) Primero, tienes la estadística de prueba que estás examinando. Podría ser una proporción, un promedio, la diferencia entre dos grupos o una distribución.\n",
        "\n",
        "(2) La siguiente parte necesaria es una hipótesis nula, que es la idea de que los resultados observados son producto del azar.\n",
        "\n",
        "(3) Luego necesitarás una hipótesis alternativa, que es la idea de que los resultados observados no pueden ser explicados solo por la casualidad.\n",
        "\n",
        "(4) Finalmente, una prueba requiere un nivel de significancia, que es el valor que la estadística de prueba debe alcanzar antes de decidir que la hipótesis nula no puede explicar la diferencia.\n",
        "\n"
      ],
      "metadata": {
        "id": "QOt_UH81bINZ"
      }
    },
    {
      "cell_type": "markdown",
      "source": [
        "### 1.5.1 Ejemplo de Prueba de Significancia Estadística (Auth. Lim)\n",
        "\n",
        "**Contexto**:\n",
        "Imagina que trabajas para una empresa que vende productos en línea. Quieres mejorar la tasa de conversión de tu página de producto, por lo que decides probar dos diseños diferentes de botones de compra.\n",
        "\n",
        "- **Diseño A**: Botón de color azul con el texto \"Añadir al carrito\".\n",
        "- **Diseño B**: Botón de color verde con el texto \"Comprar ahora\".\n",
        "\n",
        "Decides realizar una prueba A/B para determinar cuál de los dos diseños es más efectivo para generar ventas.\n",
        "\n",
        "- **Hipótesis Nula (H0)**: No hay diferencia en la tasa de conversión entre el Diseño A y el Diseño B.\n",
        "\n",
        "- **Hipótesis Alternativa (H1)**: Existe una diferencia en la tasa de conversión entre el Diseño A y el Diseño B.\n",
        "\n",
        "**Resultados de la prueba**:\n",
        "Después de una semana, recopilas los siguientes datos:\n",
        "\n",
        "- **Diseño A**: 1,000 visitantes, 100 conversiones (10% de tasa de conversión).\n",
        "- **Diseño B**: 1,000 visitantes, 115 conversiones (11.5% de tasa de conversión).\n",
        "\n",
        "\n",
        "**Análisis**:\n",
        "Usando una prueba de significancia estadística (por ejemplo, una prueba de proporciones para dos muestras), calculas un valor-p para la diferencia en tasas de conversión.\n",
        "\n",
        "Supón que obtienes un valor-p de 0.2789"
      ],
      "metadata": {
        "id": "_Fk03rMrikFA"
      }
    },
    {
      "cell_type": "markdown",
      "source": [
        "Para calcular el valor-p de una diferencia en proporciones entre dos grupos, se suele utilizar la fórmula del test de proporciones para dos muestras. La idea básica es comparar la diferencia observada en las proporciones con la diferencia esperada bajo la hipótesis nula (que es, en general, 0, ya que se espera que no haya diferencia).\n",
        "\n",
        "1. Primero, calcula la proporción combinada de conversiones:\n",
        "$ p_{combinada} = \\frac{p1 \\times n1 + p2 \\times n2}{n1 + n2}$\n",
        "Donde:\n",
        "- $ p1 $ = proporción de conversiones en el Diseño A\n",
        "- $ n1 $ = número de visitantes en el Diseño A\n",
        "- $ p2 $ = proporción de conversiones en el Diseño B\n",
        "- $ n2 $ = número de visitantes en el Diseño B\n",
        "\n",
        "2. Luego, calcula el error estándar de la diferencia entre proporciones usando la proporción combinada:\n",
        "$ SE = \\sqrt{p_{combinada} \\times (1-p_{combinada}) \\times (\\frac{1}{n1} + \\frac{1}{n2})} $\n"
      ],
      "metadata": {
        "id": "F49aRj6ZixWg"
      }
    },
    {
      "cell_type": "code",
      "source": [
        "import statsmodels.api as sm\n",
        "\n",
        "# Definiendo el número de éxitos para cada grupo\n",
        "exitos_A = 100  # 10% de 1000 visitantes\n",
        "exitos_B = 115  # 11.5% de 1000 visitantes\n",
        "\n",
        "# Definiendo el número total de observaciones para cada grupo\n",
        "n_A = 1000\n",
        "n_B = 1000\n",
        "\n",
        "z, p_value = sm.stats.proportions_ztest([exitos_A, exitos_B], [n_A, n_B])\n",
        "\n",
        "# print(f\"Estadístico Z: {z:.4f}\")\n",
        "print(f\"Valor-p: {p_value:.4f}\")"
      ],
      "metadata": {
        "colab": {
          "base_uri": "https://localhost:8080/"
        },
        "id": "UJT7ONJZhB27",
        "outputId": "113b46a9-cefd-4ba5-c9a2-757af3109177"
      },
      "execution_count": 2,
      "outputs": [
        {
          "output_type": "stream",
          "name": "stdout",
          "text": [
            "Valor-p: 0.2789\n"
          ]
        }
      ]
    },
    {
      "cell_type": "markdown",
      "source": [
        "\n",
        "**Conclusión**:\n",
        "En este caso, basándonos en los datos del ejemplo,\n",
        "probablemente obtendrás un valor-p mayor que 0.05,\n",
        "indicando que no hay evidencia suficiente para rechazar la hipótesis nula y decir que hay una diferencia significativa entre las proporciones de clics de las dos páginas de destino."
      ],
      "metadata": {
        "id": "a4iF6XdbiJ2Y"
      }
    },
    {
      "cell_type": "markdown",
      "source": [
        "<figure>\n",
        "<center><img src='https://github.com/limspiga/data-modeling/blob/main/images/4609a614-a058-4df3-b140-d5c19fb4e669.png?raw=true' width=\"400\" />\n",
        "<figcaption>Figura 1.37: Componentes de la prueba de significancia estadística.</figcaption></center>\n",
        "</figure>\n"
      ],
      "metadata": {
        "id": "qFKv98tJca0s"
      }
    },
    {
      "cell_type": "markdown",
      "source": [
        "## 1.6 SQL y Análisis\n",
        "En este capítulo, has conocido diversas técnicas de análisis de datos. Estas técnicas nos llevan a guardar y trabajar con mucha información. Hay muchas herramientas disponibles hoy en día, pero la base de datos relacional destaca como la principal.\n",
        "\n",
        "Una base de datos relacional es un método sencillo para guardar datos. Los sistemas actuales, como SQLite, te permiten usar SQL, una potente herramienta, para trabajar con esos datos. Con SQL, puedes mejorar, cambiar y examinar tus datos para descubrir información valiosa. En las siguientes páginas, aprenderás cómo aprovechar al máximo SQL de manera efectiva."
      ],
      "metadata": {
        "id": "n79SzN7qj7gg"
      }
    },
    {
      "cell_type": "markdown",
      "source": [
        "# Resumen\n",
        "Analizar datos significa examinar información en bruto para descubrir tendencias y hacer predicciones. Queremos convertir esos datos en conocimientos útiles. Para ello, usamos herramientas estadísticas que nos ayudan a entender mejor la información.\n",
        "\n",
        "Una herramienta es el análisis univariante. Este se centra en una sola variable de datos para identificar cosas como valores inusuales y cómo se distribuyen los datos. Con él, podemos calcular promedios, medias y modas, y también entender cuánto varían los datos.\n",
        "\n",
        "Por otro lado, el análisis bivariante nos permite ver la relación entre dos conjuntos de datos. Usando gráficos y una herramienta llamada coeficiente de correlación de Pearson, podemos ver cuán relacionadas están dos variables. Pero es importante tener cuidado. Solo porque dos cosas estén correlacionadas no significa que una cause el cambio en la otra.\n",
        "\n",
        "También existen pruebas que nos dicen si los resultados que vemos son reales o si podrían haber ocurrido por simple casualidad. Estas pruebas son vitales para dar sentido a la información.\n",
        "\n",
        "Pero recordemos algo importante: necesitamos suficientes datos para obtener conclusiones confiables. Manejar todos esos datos requiere herramientas poderosas. Una de las más esenciales es la base de datos relacional, y su lenguaje, SQL. A continuación, en este curso, nos sumergiremos en SQL, empezando por aprender cómo gestionar datos con operaciones básicas como Crear, Leer, Actualizar y Eliminar (conocidas como CRUD en inglés)."
      ],
      "metadata": {
        "id": "4wYDk57gvvVU"
      }
    }
  ]
}