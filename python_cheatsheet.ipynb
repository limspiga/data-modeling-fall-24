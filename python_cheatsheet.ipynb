{
  "nbformat": 4,
  "nbformat_minor": 0,
  "metadata": {
    "colab": {
      "provenance": []
    },
    "kernelspec": {
      "name": "python3",
      "display_name": "Python 3"
    },
    "language_info": {
      "name": "python"
    }
  },
  "cells": [
    {
      "cell_type": "markdown",
      "source": [
        "Instrucciones:\n",
        "1. Abre el notebook en [colab.research.google.com](https://colab.research.google.com).\n",
        "2. En la ventana \"Abrir cuaderno\", selecciona la opción `GitHub`.\n",
        "3. Ingresa la URL `https://github.com/limspiga/data-modeling-fall-24/blob/main/python_cheatsheet.ipynb`.\n",
        "4. Selecciona el archivo `python_cheatsheet.ipynb`."
      ],
      "metadata": {
        "id": "NY6hlcz5CMfe"
      }
    },
    {
      "cell_type": "code",
      "source": [
        "# Hello World\n",
        "print(\"Hello, World!\")"
      ],
      "metadata": {
        "id": "QoYpruCxHSg_"
      },
      "execution_count": null,
      "outputs": []
    },
    {
      "cell_type": "code",
      "source": [
        "# Variables\n",
        "age = 18      # age is of type int\n",
        "name = \"John\" # name is now of type str\n",
        "print(name)"
      ],
      "metadata": {
        "id": "Xt0yXRimHwMB"
      },
      "execution_count": null,
      "outputs": []
    },
    {
      "cell_type": "code",
      "source": [
        "# Slicing String\n",
        "msg = \"Hello, World!\"\n",
        "print(msg[2:5])"
      ],
      "metadata": {
        "id": "RQA6KNUqHj_l"
      },
      "execution_count": null,
      "outputs": []
    },
    {
      "cell_type": "code",
      "source": [
        "# Lists\n",
        "mylist = []\n",
        "mylist.append(1)\n",
        "mylist.append(2)\n",
        "\n",
        "print(mylist)"
      ],
      "metadata": {
        "id": "WAlR5y2VH11W"
      },
      "execution_count": null,
      "outputs": []
    },
    {
      "cell_type": "code",
      "source": [
        "for item in mylist:\n",
        "    print(item) # prints out 1,2"
      ],
      "metadata": {
        "id": "oEdjz9AEGYwK"
      },
      "execution_count": null,
      "outputs": []
    },
    {
      "cell_type": "code",
      "source": [
        "# Loops\n",
        "for item in range(6):\n",
        "    if item == 3: break\n",
        "    print(item)\n",
        "# else:\n",
        "#     print(\"Finally finished!\")"
      ],
      "metadata": {
        "id": "D41dEJBDH-pp"
      },
      "execution_count": null,
      "outputs": []
    },
    {
      "cell_type": "code",
      "source": [
        "# Functions\n",
        "def my_function():\n",
        "  print(\"Hello from a function\")\n",
        "\n",
        "# my_function()"
      ],
      "metadata": {
        "id": "J_UrM5weIaFq"
      },
      "execution_count": null,
      "outputs": []
    },
    {
      "cell_type": "code",
      "source": [
        "# File Handling\n",
        "\n",
        "# Open the file with write mode.\n",
        "with open('myfile.txt', 'w') as file:\n",
        "    file.write('Hello, World!')\n",
        "\n",
        "with open(\"myfile.txt\", \"r\", encoding='utf8') as file:\n",
        "    for line in file:\n",
        "        print(line)"
      ],
      "metadata": {
        "id": "OPYH4nkXIlna"
      },
      "execution_count": null,
      "outputs": []
    },
    {
      "cell_type": "code",
      "source": [
        "# Arithmetic\n",
        "result = 10 + 30 # => 40\n",
        "result = 40 - 10 # => 30\n",
        "result = 50 * 5  # => 250\n",
        "result = 16 / 4  # => 4.0 (Float Division)\n",
        "result = 16 // 4 # => 4 (Integer Division)\n",
        "result = 25 % 2  # => 1\n",
        "result = 5 ** 3  # => 125"
      ],
      "metadata": {
        "id": "pG_bn4GOJG8a"
      },
      "execution_count": null,
      "outputs": []
    },
    {
      "cell_type": "code",
      "source": [
        "# Plus-Equals integers\n",
        "counter = 0\n",
        "counter += 10           # => 10\n",
        "counter = counter + 10  # => 20\n",
        "\n",
        "# Plus-Equals characters\n",
        "message = \"Part 1.\"\n",
        "message += \"Part 2.\"  # => Part 1.Part 2."
      ],
      "metadata": {
        "id": "SEnxOnrYJMjI"
      },
      "execution_count": null,
      "outputs": []
    },
    {
      "cell_type": "code",
      "source": [
        "# format-strings\n",
        "website = 'Quickref.ME'\n",
        "print(f\"Hello, {website}\")\n",
        "\n",
        "num = 10\n",
        "print(f'{num} + 10 = {num + 10}')"
      ],
      "metadata": {
        "id": "OfsieDaQJWu9"
      },
      "execution_count": null,
      "outputs": []
    },
    {
      "cell_type": "code",
      "source": [
        "# Check String\n",
        "s = 'spam'\n",
        "s in 'I saw spamalot!'"
      ],
      "metadata": {
        "id": "YEffx6ICJyAk"
      },
      "execution_count": null,
      "outputs": []
    },
    {
      "cell_type": "code",
      "source": [
        "s not in 'I saw The Holy Grail!'"
      ],
      "metadata": {
        "id": "_4cwHZT7J39_"
      },
      "execution_count": null,
      "outputs": []
    },
    {
      "cell_type": "code",
      "source": [
        "# Python Flow control\n",
        "num = 5\n",
        "if num > 10:\n",
        "    print(\"num is totally bigger than 10.\")\n",
        "elif num < 10:\n",
        "    print(\"num is smaller than 10.\")\n",
        "else:\n",
        "    print(\"num is indeed 10.\")"
      ],
      "metadata": {
        "id": "7W5DT2vtKBYq"
      },
      "execution_count": null,
      "outputs": []
    },
    {
      "cell_type": "markdown",
      "source": [
        "Python references:\n",
        "- https://quickref.me/python\n"
      ],
      "metadata": {
        "id": "CWi11_1xHR4r"
      }
    }
  ]
}