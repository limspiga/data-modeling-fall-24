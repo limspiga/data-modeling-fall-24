{
  "nbformat": 4,
  "nbformat_minor": 0,
  "metadata": {
    "colab": {
      "provenance": []
    },
    "kernelspec": {
      "name": "python3",
      "display_name": "Python 3"
    },
    "language_info": {
      "name": "python"
    }
  },
  "cells": [
    {
      "cell_type": "code",
      "source": [
        "# Hello World\n",
        "print(\"Hello, World!\")"
      ],
      "metadata": {
        "colab": {
          "base_uri": "https://localhost:8080/"
        },
        "id": "QoYpruCxHSg_",
        "outputId": "89f7551f-f2a4-42ed-c11e-bf79249723ec"
      },
      "execution_count": 2,
      "outputs": [
        {
          "output_type": "stream",
          "name": "stdout",
          "text": [
            "Hello, World!\n"
          ]
        }
      ]
    },
    {
      "cell_type": "code",
      "source": [
        "# Slicing String\n",
        "msg = \"Hello, World!\"\n",
        "print(msg[2:5])"
      ],
      "metadata": {
        "colab": {
          "base_uri": "https://localhost:8080/"
        },
        "id": "RQA6KNUqHj_l",
        "outputId": "14768f34-9885-490d-c8f3-22d02f2b9613"
      },
      "execution_count": 3,
      "outputs": [
        {
          "output_type": "stream",
          "name": "stdout",
          "text": [
            "llo\n"
          ]
        }
      ]
    },
    {
      "cell_type": "code",
      "source": [
        "# Variables\n",
        "age = 18      # age is of type int\n",
        "name = \"John\" # name is now of type str\n",
        "print(name)"
      ],
      "metadata": {
        "colab": {
          "base_uri": "https://localhost:8080/"
        },
        "id": "Xt0yXRimHwMB",
        "outputId": "78421ca9-9e5a-42eb-cce3-e872f9a088c4"
      },
      "execution_count": 4,
      "outputs": [
        {
          "output_type": "stream",
          "name": "stdout",
          "text": [
            "John\n"
          ]
        }
      ]
    },
    {
      "cell_type": "code",
      "source": [
        "# Lists\n",
        "mylist = []\n",
        "mylist.append(1)\n",
        "mylist.append(2)\n",
        "for item in mylist:\n",
        "    print(item) # prints out 1,2"
      ],
      "metadata": {
        "colab": {
          "base_uri": "https://localhost:8080/"
        },
        "id": "WAlR5y2VH11W",
        "outputId": "21cffdb1-4c0e-4306-e198-fc8e1c8294cc"
      },
      "execution_count": 5,
      "outputs": [
        {
          "output_type": "stream",
          "name": "stdout",
          "text": [
            "1\n",
            "2\n"
          ]
        }
      ]
    },
    {
      "cell_type": "code",
      "source": [
        "# Loops\n",
        "for item in range(6):\n",
        "    if item == 3: break\n",
        "    print(item)\n",
        "else:\n",
        "    print(\"Finally finished!\")"
      ],
      "metadata": {
        "colab": {
          "base_uri": "https://localhost:8080/"
        },
        "id": "D41dEJBDH-pp",
        "outputId": "da4ae5f3-e2a9-4c54-91a5-9c47bdafbda2"
      },
      "execution_count": 6,
      "outputs": [
        {
          "output_type": "stream",
          "name": "stdout",
          "text": [
            "0\n",
            "1\n",
            "2\n"
          ]
        }
      ]
    },
    {
      "cell_type": "code",
      "source": [
        "# Functions\n",
        "def my_function():\n",
        "  print(\"Hello from a function\")\n",
        "\n",
        "my_function()"
      ],
      "metadata": {
        "colab": {
          "base_uri": "https://localhost:8080/"
        },
        "id": "J_UrM5weIaFq",
        "outputId": "6943151d-6a1a-4658-dbbb-4e50e429b8b9"
      },
      "execution_count": 12,
      "outputs": [
        {
          "output_type": "stream",
          "name": "stdout",
          "text": [
            "Hello from a function\n"
          ]
        }
      ]
    },
    {
      "cell_type": "code",
      "source": [
        "# File Handling\n",
        "\n",
        "# Open the file with write mode.\n",
        "with open('myfile.txt', 'w') as file:\n",
        "    file.write('Hello, World!')\n",
        "\n",
        "\n",
        "with open(\"myfile.txt\", \"r\", encoding='utf8') as file:\n",
        "    for line in file:\n",
        "        print(line)\n"
      ],
      "metadata": {
        "colab": {
          "base_uri": "https://localhost:8080/"
        },
        "id": "OPYH4nkXIlna",
        "outputId": "ad80da33-03ce-4f96-adaf-08b56a073b1f"
      },
      "execution_count": 15,
      "outputs": [
        {
          "output_type": "stream",
          "name": "stdout",
          "text": [
            "Hello, World!\n"
          ]
        }
      ]
    },
    {
      "cell_type": "code",
      "source": [
        "# Arithmetic\n",
        "result = 10 + 30 # => 40\n",
        "result = 40 - 10 # => 30\n",
        "result = 50 * 5  # => 250\n",
        "result = 16 / 4  # => 4.0 (Float Division)\n",
        "result = 16 // 4 # => 4 (Integer Division)\n",
        "result = 25 % 2  # => 1\n",
        "result = 5 ** 3  # => 125"
      ],
      "metadata": {
        "id": "pG_bn4GOJG8a"
      },
      "execution_count": 17,
      "outputs": []
    },
    {
      "cell_type": "code",
      "source": [
        "# Plus-Equals\n",
        "counter = 0\n",
        "counter += 10           # => 10\n",
        "counter = 0\n",
        "counter = counter + 10  # => 10\n",
        "\n",
        "message = \"Part 1.\"\n",
        "\n",
        "# => Part 1.Part 2.\n",
        "message += \"Part 2.\""
      ],
      "metadata": {
        "id": "SEnxOnrYJMjI"
      },
      "execution_count": 16,
      "outputs": []
    },
    {
      "cell_type": "code",
      "source": [
        "# f-Strings (Python 3.6+)\n",
        "website = 'Quickref.ME'\n",
        "f\"Hello, {website}\"\n",
        "\"Hello, Quickref.ME\"\n",
        "\n",
        "num = 10\n",
        "f'{num} + 10 = {num + 10}'\n",
        "'10 + 10 = 20'\n"
      ],
      "metadata": {
        "colab": {
          "base_uri": "https://localhost:8080/",
          "height": 35
        },
        "id": "OfsieDaQJWu9",
        "outputId": "0be6e542-9ac1-42a4-8611-286deee5be66"
      },
      "execution_count": 18,
      "outputs": [
        {
          "output_type": "execute_result",
          "data": {
            "text/plain": [
              "'10 + 10 = 20'"
            ],
            "application/vnd.google.colaboratory.intrinsic+json": {
              "type": "string"
            }
          },
          "metadata": {},
          "execution_count": 18
        }
      ]
    },
    {
      "cell_type": "code",
      "source": [
        "# Check String\n",
        "s = 'spam'\n",
        "s in 'I saw spamalot!'"
      ],
      "metadata": {
        "colab": {
          "base_uri": "https://localhost:8080/"
        },
        "id": "YEffx6ICJyAk",
        "outputId": "9b0a2d2d-7318-482a-c43d-9ad8a94cc697"
      },
      "execution_count": 19,
      "outputs": [
        {
          "output_type": "execute_result",
          "data": {
            "text/plain": [
              "True"
            ]
          },
          "metadata": {},
          "execution_count": 19
        }
      ]
    },
    {
      "cell_type": "code",
      "source": [
        "s not in 'I saw The Holy Grail!'"
      ],
      "metadata": {
        "colab": {
          "base_uri": "https://localhost:8080/"
        },
        "id": "_4cwHZT7J39_",
        "outputId": "dfb5d777-eda4-4c8f-d544-13ee482d64da"
      },
      "execution_count": 20,
      "outputs": [
        {
          "output_type": "execute_result",
          "data": {
            "text/plain": [
              "True"
            ]
          },
          "metadata": {},
          "execution_count": 20
        }
      ]
    },
    {
      "cell_type": "code",
      "source": [
        "# Python Flow control\n",
        "num = 5\n",
        "if num > 10:\n",
        "    print(\"num is totally bigger than 10.\")\n",
        "elif num < 10:\n",
        "    print(\"num is smaller than 10.\")\n",
        "else:\n",
        "    print(\"num is indeed 10.\")"
      ],
      "metadata": {
        "colab": {
          "base_uri": "https://localhost:8080/"
        },
        "id": "7W5DT2vtKBYq",
        "outputId": "b9049ce2-d0a6-4cde-d219-67a62b2a03c2"
      },
      "execution_count": 21,
      "outputs": [
        {
          "output_type": "stream",
          "name": "stdout",
          "text": [
            "num is smaller than 10.\n"
          ]
        }
      ]
    }
  ]
}